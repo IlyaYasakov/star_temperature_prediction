{
  "nbformat": 4,
  "nbformat_minor": 0,
  "metadata": {
    "colab": {
      "provenance": []
    },
    "kernelspec": {
      "name": "python3",
      "display_name": "Python 3"
    },
    "language_info": {
      "name": "python"
    }
  },
  "cells": [
    {
      "cell_type": "markdown",
      "source": [
        "**Цель проекта**\n",
        "\n",
        "Нужно построить модель, которая будет определять температуру на поверхностях звезд."
      ],
      "metadata": {
        "id": "J_chTuTgoPi9"
      }
    },
    {
      "cell_type": "markdown",
      "source": [
        "**Характеристики**\n",
        "\n",
        "- Относительная светимость L/Lo — светимость звезды относительно Солнца.\n",
        "\n",
        "- Относительный радиус R/Ro — радиус звезды относительно радиуса Солнца.\n",
        "\n",
        "- Абсолютная звёздная величина Mv — физическая величина, характеризующая блеск звезды.\n",
        "\n",
        "- Звёздный цвет (white, red, blue, yellow, yellow-orange и др.) — цвет звезды, который определяют на основе спектрального анализа.\n",
        "\n",
        "- Тип звезды.\n",
        "- - Коричневый карлик\t- 0\n",
        "\n",
        "- - Красный карлик\t- 1\n",
        "\n",
        "- - Белый карлик - 2\n",
        "\n",
        "- - Звёзды главной последовательности -\t3\n",
        "\n",
        "- - Сверхгигант\t- 4\n",
        "\n",
        "- - Гипергигант\t- 5\n",
        "\n",
        "\n",
        "- Абсолютная температура T(K) — температура на поверхности звезды в Кельвинах."
      ],
      "metadata": {
        "id": "uTjexAvqoW4L"
      }
    },
    {
      "cell_type": "markdown",
      "source": [
        "## Импорт библиотек и загрузка данных"
      ],
      "metadata": {
        "id": "F-6FRE3ppfG9"
      }
    },
    {
      "cell_type": "code",
      "execution_count": null,
      "metadata": {
        "id": "ARX-bGoGk-fY"
      },
      "outputs": [],
      "source": [
        "import pandas as pd\n",
        "import numpy as np\n",
        "import matplotlib.pyplot as plt\n",
        "import seaborn as sns\n",
        "import torch\n",
        "import torch.nn as nn\n",
        "import optuna\n",
        "import shap\n",
        "from math import ceil\n",
        "\n",
        "from sklearn.model_selection import train_test_split, cross_val_score\n",
        "from sklearn.preprocessing import OneHotEncoder, OrdinalEncoder, StandardScaler\n",
        "from sklearn.linear_model import LinearRegression\n",
        "from sklearn.ensemble import RandomForestRegressor\n",
        "\n",
        "from torchmetrics import MeanSquaredError\n",
        "\n",
        "from catboost import CatBoostRegressor\n",
        "\n",
        "from skorch import NeuralNetRegressor"
      ]
    },
    {
      "cell_type": "code",
      "source": [
        "torch.manual_seed(987)\n",
        "np.random.seed(987)"
      ],
      "metadata": {
        "id": "gWgSaQTrF9qO"
      },
      "execution_count": null,
      "outputs": []
    },
    {
      "cell_type": "code",
      "source": [
        "sns.set()"
      ],
      "metadata": {
        "id": "Jer4wTgiGSr9"
      },
      "execution_count": null,
      "outputs": []
    },
    {
      "cell_type": "code",
      "source": [
        "data = pd.read_csv(\"/content/drive/MyDrive/Colab Notebooks/Star Temperature Prediction/6_class_csv.csv\")"
      ],
      "metadata": {
        "id": "mmh2BQG2lBm0"
      },
      "execution_count": null,
      "outputs": []
    },
    {
      "cell_type": "code",
      "source": [
        "data.head()"
      ],
      "metadata": {
        "colab": {
          "base_uri": "https://localhost:8080/",
          "height": 206
        },
        "id": "Ua6wOlVOl4L0",
        "outputId": "904fee41-9444-4ba8-e900-78230f38c85c"
      },
      "execution_count": null,
      "outputs": [
        {
          "output_type": "execute_result",
          "data": {
            "text/plain": [
              "   Temperature (K)  Luminosity(L/Lo)  Radius(R/Ro)  Absolute magnitude(Mv)  \\\n",
              "0             3068          0.002400        0.1700                   16.12   \n",
              "1             3042          0.000500        0.1542                   16.60   \n",
              "2             2600          0.000300        0.1020                   18.70   \n",
              "3             2800          0.000200        0.1600                   16.65   \n",
              "4             1939          0.000138        0.1030                   20.06   \n",
              "\n",
              "   Star type Star color  \n",
              "0          0        Red  \n",
              "1          0        Red  \n",
              "2          0        Red  \n",
              "3          0        Red  \n",
              "4          0        Red  "
            ],
            "text/html": [
              "\n",
              "  <div id=\"df-dbd43ddd-efd6-4e42-8d72-9f32f1461e31\" class=\"colab-df-container\">\n",
              "    <div>\n",
              "<style scoped>\n",
              "    .dataframe tbody tr th:only-of-type {\n",
              "        vertical-align: middle;\n",
              "    }\n",
              "\n",
              "    .dataframe tbody tr th {\n",
              "        vertical-align: top;\n",
              "    }\n",
              "\n",
              "    .dataframe thead th {\n",
              "        text-align: right;\n",
              "    }\n",
              "</style>\n",
              "<table border=\"1\" class=\"dataframe\">\n",
              "  <thead>\n",
              "    <tr style=\"text-align: right;\">\n",
              "      <th></th>\n",
              "      <th>Temperature (K)</th>\n",
              "      <th>Luminosity(L/Lo)</th>\n",
              "      <th>Radius(R/Ro)</th>\n",
              "      <th>Absolute magnitude(Mv)</th>\n",
              "      <th>Star type</th>\n",
              "      <th>Star color</th>\n",
              "    </tr>\n",
              "  </thead>\n",
              "  <tbody>\n",
              "    <tr>\n",
              "      <th>0</th>\n",
              "      <td>3068</td>\n",
              "      <td>0.002400</td>\n",
              "      <td>0.1700</td>\n",
              "      <td>16.12</td>\n",
              "      <td>0</td>\n",
              "      <td>Red</td>\n",
              "    </tr>\n",
              "    <tr>\n",
              "      <th>1</th>\n",
              "      <td>3042</td>\n",
              "      <td>0.000500</td>\n",
              "      <td>0.1542</td>\n",
              "      <td>16.60</td>\n",
              "      <td>0</td>\n",
              "      <td>Red</td>\n",
              "    </tr>\n",
              "    <tr>\n",
              "      <th>2</th>\n",
              "      <td>2600</td>\n",
              "      <td>0.000300</td>\n",
              "      <td>0.1020</td>\n",
              "      <td>18.70</td>\n",
              "      <td>0</td>\n",
              "      <td>Red</td>\n",
              "    </tr>\n",
              "    <tr>\n",
              "      <th>3</th>\n",
              "      <td>2800</td>\n",
              "      <td>0.000200</td>\n",
              "      <td>0.1600</td>\n",
              "      <td>16.65</td>\n",
              "      <td>0</td>\n",
              "      <td>Red</td>\n",
              "    </tr>\n",
              "    <tr>\n",
              "      <th>4</th>\n",
              "      <td>1939</td>\n",
              "      <td>0.000138</td>\n",
              "      <td>0.1030</td>\n",
              "      <td>20.06</td>\n",
              "      <td>0</td>\n",
              "      <td>Red</td>\n",
              "    </tr>\n",
              "  </tbody>\n",
              "</table>\n",
              "</div>\n",
              "    <div class=\"colab-df-buttons\">\n",
              "\n",
              "  <div class=\"colab-df-container\">\n",
              "    <button class=\"colab-df-convert\" onclick=\"convertToInteractive('df-dbd43ddd-efd6-4e42-8d72-9f32f1461e31')\"\n",
              "            title=\"Convert this dataframe to an interactive table.\"\n",
              "            style=\"display:none;\">\n",
              "\n",
              "  <svg xmlns=\"http://www.w3.org/2000/svg\" height=\"24px\" viewBox=\"0 -960 960 960\">\n",
              "    <path d=\"M120-120v-720h720v720H120Zm60-500h600v-160H180v160Zm220 220h160v-160H400v160Zm0 220h160v-160H400v160ZM180-400h160v-160H180v160Zm440 0h160v-160H620v160ZM180-180h160v-160H180v160Zm440 0h160v-160H620v160Z\"/>\n",
              "  </svg>\n",
              "    </button>\n",
              "\n",
              "  <style>\n",
              "    .colab-df-container {\n",
              "      display:flex;\n",
              "      gap: 12px;\n",
              "    }\n",
              "\n",
              "    .colab-df-convert {\n",
              "      background-color: #E8F0FE;\n",
              "      border: none;\n",
              "      border-radius: 50%;\n",
              "      cursor: pointer;\n",
              "      display: none;\n",
              "      fill: #1967D2;\n",
              "      height: 32px;\n",
              "      padding: 0 0 0 0;\n",
              "      width: 32px;\n",
              "    }\n",
              "\n",
              "    .colab-df-convert:hover {\n",
              "      background-color: #E2EBFA;\n",
              "      box-shadow: 0px 1px 2px rgba(60, 64, 67, 0.3), 0px 1px 3px 1px rgba(60, 64, 67, 0.15);\n",
              "      fill: #174EA6;\n",
              "    }\n",
              "\n",
              "    .colab-df-buttons div {\n",
              "      margin-bottom: 4px;\n",
              "    }\n",
              "\n",
              "    [theme=dark] .colab-df-convert {\n",
              "      background-color: #3B4455;\n",
              "      fill: #D2E3FC;\n",
              "    }\n",
              "\n",
              "    [theme=dark] .colab-df-convert:hover {\n",
              "      background-color: #434B5C;\n",
              "      box-shadow: 0px 1px 3px 1px rgba(0, 0, 0, 0.15);\n",
              "      filter: drop-shadow(0px 1px 2px rgba(0, 0, 0, 0.3));\n",
              "      fill: #FFFFFF;\n",
              "    }\n",
              "  </style>\n",
              "\n",
              "    <script>\n",
              "      const buttonEl =\n",
              "        document.querySelector('#df-dbd43ddd-efd6-4e42-8d72-9f32f1461e31 button.colab-df-convert');\n",
              "      buttonEl.style.display =\n",
              "        google.colab.kernel.accessAllowed ? 'block' : 'none';\n",
              "\n",
              "      async function convertToInteractive(key) {\n",
              "        const element = document.querySelector('#df-dbd43ddd-efd6-4e42-8d72-9f32f1461e31');\n",
              "        const dataTable =\n",
              "          await google.colab.kernel.invokeFunction('convertToInteractive',\n",
              "                                                    [key], {});\n",
              "        if (!dataTable) return;\n",
              "\n",
              "        const docLinkHtml = 'Like what you see? Visit the ' +\n",
              "          '<a target=\"_blank\" href=https://colab.research.google.com/notebooks/data_table.ipynb>data table notebook</a>'\n",
              "          + ' to learn more about interactive tables.';\n",
              "        element.innerHTML = '';\n",
              "        dataTable['output_type'] = 'display_data';\n",
              "        await google.colab.output.renderOutput(dataTable, element);\n",
              "        const docLink = document.createElement('div');\n",
              "        docLink.innerHTML = docLinkHtml;\n",
              "        element.appendChild(docLink);\n",
              "      }\n",
              "    </script>\n",
              "  </div>\n",
              "\n",
              "\n",
              "<div id=\"df-d5ed8680-1a7d-4072-b300-5e74ef5e77b8\">\n",
              "  <button class=\"colab-df-quickchart\" onclick=\"quickchart('df-d5ed8680-1a7d-4072-b300-5e74ef5e77b8')\"\n",
              "            title=\"Suggest charts\"\n",
              "            style=\"display:none;\">\n",
              "\n",
              "<svg xmlns=\"http://www.w3.org/2000/svg\" height=\"24px\"viewBox=\"0 0 24 24\"\n",
              "     width=\"24px\">\n",
              "    <g>\n",
              "        <path d=\"M19 3H5c-1.1 0-2 .9-2 2v14c0 1.1.9 2 2 2h14c1.1 0 2-.9 2-2V5c0-1.1-.9-2-2-2zM9 17H7v-7h2v7zm4 0h-2V7h2v10zm4 0h-2v-4h2v4z\"/>\n",
              "    </g>\n",
              "</svg>\n",
              "  </button>\n",
              "\n",
              "<style>\n",
              "  .colab-df-quickchart {\n",
              "      --bg-color: #E8F0FE;\n",
              "      --fill-color: #1967D2;\n",
              "      --hover-bg-color: #E2EBFA;\n",
              "      --hover-fill-color: #174EA6;\n",
              "      --disabled-fill-color: #AAA;\n",
              "      --disabled-bg-color: #DDD;\n",
              "  }\n",
              "\n",
              "  [theme=dark] .colab-df-quickchart {\n",
              "      --bg-color: #3B4455;\n",
              "      --fill-color: #D2E3FC;\n",
              "      --hover-bg-color: #434B5C;\n",
              "      --hover-fill-color: #FFFFFF;\n",
              "      --disabled-bg-color: #3B4455;\n",
              "      --disabled-fill-color: #666;\n",
              "  }\n",
              "\n",
              "  .colab-df-quickchart {\n",
              "    background-color: var(--bg-color);\n",
              "    border: none;\n",
              "    border-radius: 50%;\n",
              "    cursor: pointer;\n",
              "    display: none;\n",
              "    fill: var(--fill-color);\n",
              "    height: 32px;\n",
              "    padding: 0;\n",
              "    width: 32px;\n",
              "  }\n",
              "\n",
              "  .colab-df-quickchart:hover {\n",
              "    background-color: var(--hover-bg-color);\n",
              "    box-shadow: 0 1px 2px rgba(60, 64, 67, 0.3), 0 1px 3px 1px rgba(60, 64, 67, 0.15);\n",
              "    fill: var(--button-hover-fill-color);\n",
              "  }\n",
              "\n",
              "  .colab-df-quickchart-complete:disabled,\n",
              "  .colab-df-quickchart-complete:disabled:hover {\n",
              "    background-color: var(--disabled-bg-color);\n",
              "    fill: var(--disabled-fill-color);\n",
              "    box-shadow: none;\n",
              "  }\n",
              "\n",
              "  .colab-df-spinner {\n",
              "    border: 2px solid var(--fill-color);\n",
              "    border-color: transparent;\n",
              "    border-bottom-color: var(--fill-color);\n",
              "    animation:\n",
              "      spin 1s steps(1) infinite;\n",
              "  }\n",
              "\n",
              "  @keyframes spin {\n",
              "    0% {\n",
              "      border-color: transparent;\n",
              "      border-bottom-color: var(--fill-color);\n",
              "      border-left-color: var(--fill-color);\n",
              "    }\n",
              "    20% {\n",
              "      border-color: transparent;\n",
              "      border-left-color: var(--fill-color);\n",
              "      border-top-color: var(--fill-color);\n",
              "    }\n",
              "    30% {\n",
              "      border-color: transparent;\n",
              "      border-left-color: var(--fill-color);\n",
              "      border-top-color: var(--fill-color);\n",
              "      border-right-color: var(--fill-color);\n",
              "    }\n",
              "    40% {\n",
              "      border-color: transparent;\n",
              "      border-right-color: var(--fill-color);\n",
              "      border-top-color: var(--fill-color);\n",
              "    }\n",
              "    60% {\n",
              "      border-color: transparent;\n",
              "      border-right-color: var(--fill-color);\n",
              "    }\n",
              "    80% {\n",
              "      border-color: transparent;\n",
              "      border-right-color: var(--fill-color);\n",
              "      border-bottom-color: var(--fill-color);\n",
              "    }\n",
              "    90% {\n",
              "      border-color: transparent;\n",
              "      border-bottom-color: var(--fill-color);\n",
              "    }\n",
              "  }\n",
              "</style>\n",
              "\n",
              "  <script>\n",
              "    async function quickchart(key) {\n",
              "      const quickchartButtonEl =\n",
              "        document.querySelector('#' + key + ' button');\n",
              "      quickchartButtonEl.disabled = true;  // To prevent multiple clicks.\n",
              "      quickchartButtonEl.classList.add('colab-df-spinner');\n",
              "      try {\n",
              "        const charts = await google.colab.kernel.invokeFunction(\n",
              "            'suggestCharts', [key], {});\n",
              "      } catch (error) {\n",
              "        console.error('Error during call to suggestCharts:', error);\n",
              "      }\n",
              "      quickchartButtonEl.classList.remove('colab-df-spinner');\n",
              "      quickchartButtonEl.classList.add('colab-df-quickchart-complete');\n",
              "    }\n",
              "    (() => {\n",
              "      let quickchartButtonEl =\n",
              "        document.querySelector('#df-d5ed8680-1a7d-4072-b300-5e74ef5e77b8 button');\n",
              "      quickchartButtonEl.style.display =\n",
              "        google.colab.kernel.accessAllowed ? 'block' : 'none';\n",
              "    })();\n",
              "  </script>\n",
              "</div>\n",
              "    </div>\n",
              "  </div>\n"
            ]
          },
          "metadata": {},
          "execution_count": 6
        }
      ]
    },
    {
      "cell_type": "code",
      "source": [
        "data.info()"
      ],
      "metadata": {
        "colab": {
          "base_uri": "https://localhost:8080/"
        },
        "id": "4T8qR0Qol4zb",
        "outputId": "8b65a41e-48af-4b7e-fa8e-fe5879f23851"
      },
      "execution_count": null,
      "outputs": [
        {
          "output_type": "stream",
          "name": "stdout",
          "text": [
            "<class 'pandas.core.frame.DataFrame'>\n",
            "RangeIndex: 240 entries, 0 to 239\n",
            "Data columns (total 6 columns):\n",
            " #   Column                  Non-Null Count  Dtype  \n",
            "---  ------                  --------------  -----  \n",
            " 0   Temperature (K)         240 non-null    int64  \n",
            " 1   Luminosity(L/Lo)        240 non-null    float64\n",
            " 2   Radius(R/Ro)            240 non-null    float64\n",
            " 3   Absolute magnitude(Mv)  240 non-null    float64\n",
            " 4   Star type               240 non-null    int64  \n",
            " 5   Star color              240 non-null    object \n",
            "dtypes: float64(3), int64(2), object(1)\n",
            "memory usage: 11.4+ KB\n"
          ]
        }
      ]
    },
    {
      "cell_type": "code",
      "source": [
        "data.describe()"
      ],
      "metadata": {
        "colab": {
          "base_uri": "https://localhost:8080/",
          "height": 300
        },
        "id": "64SP-I5JmSnb",
        "outputId": "64504f3e-9a1d-41a8-af2e-c53d2ee69bc6"
      },
      "execution_count": null,
      "outputs": [
        {
          "output_type": "execute_result",
          "data": {
            "text/plain": [
              "       Temperature (K)  Luminosity(L/Lo)  Radius(R/Ro)  \\\n",
              "count       240.000000        240.000000    240.000000   \n",
              "mean      10497.462500     107188.361635    237.157781   \n",
              "std        9552.425037     179432.244940    517.155763   \n",
              "min        1939.000000          0.000080      0.008400   \n",
              "25%        3344.250000          0.000865      0.102750   \n",
              "50%        5776.000000          0.070500      0.762500   \n",
              "75%       15055.500000     198050.000000     42.750000   \n",
              "max       40000.000000     849420.000000   1948.500000   \n",
              "\n",
              "       Absolute magnitude(Mv)   Star type  \n",
              "count              240.000000  240.000000  \n",
              "mean                 4.382396    2.500000  \n",
              "std                 10.532512    1.711394  \n",
              "min                -11.920000    0.000000  \n",
              "25%                 -6.232500    1.000000  \n",
              "50%                  8.313000    2.500000  \n",
              "75%                 13.697500    4.000000  \n",
              "max                 20.060000    5.000000  "
            ],
            "text/html": [
              "\n",
              "  <div id=\"df-a4be5109-c974-4ed0-a41c-19b8b51bfc30\" class=\"colab-df-container\">\n",
              "    <div>\n",
              "<style scoped>\n",
              "    .dataframe tbody tr th:only-of-type {\n",
              "        vertical-align: middle;\n",
              "    }\n",
              "\n",
              "    .dataframe tbody tr th {\n",
              "        vertical-align: top;\n",
              "    }\n",
              "\n",
              "    .dataframe thead th {\n",
              "        text-align: right;\n",
              "    }\n",
              "</style>\n",
              "<table border=\"1\" class=\"dataframe\">\n",
              "  <thead>\n",
              "    <tr style=\"text-align: right;\">\n",
              "      <th></th>\n",
              "      <th>Temperature (K)</th>\n",
              "      <th>Luminosity(L/Lo)</th>\n",
              "      <th>Radius(R/Ro)</th>\n",
              "      <th>Absolute magnitude(Mv)</th>\n",
              "      <th>Star type</th>\n",
              "    </tr>\n",
              "  </thead>\n",
              "  <tbody>\n",
              "    <tr>\n",
              "      <th>count</th>\n",
              "      <td>240.000000</td>\n",
              "      <td>240.000000</td>\n",
              "      <td>240.000000</td>\n",
              "      <td>240.000000</td>\n",
              "      <td>240.000000</td>\n",
              "    </tr>\n",
              "    <tr>\n",
              "      <th>mean</th>\n",
              "      <td>10497.462500</td>\n",
              "      <td>107188.361635</td>\n",
              "      <td>237.157781</td>\n",
              "      <td>4.382396</td>\n",
              "      <td>2.500000</td>\n",
              "    </tr>\n",
              "    <tr>\n",
              "      <th>std</th>\n",
              "      <td>9552.425037</td>\n",
              "      <td>179432.244940</td>\n",
              "      <td>517.155763</td>\n",
              "      <td>10.532512</td>\n",
              "      <td>1.711394</td>\n",
              "    </tr>\n",
              "    <tr>\n",
              "      <th>min</th>\n",
              "      <td>1939.000000</td>\n",
              "      <td>0.000080</td>\n",
              "      <td>0.008400</td>\n",
              "      <td>-11.920000</td>\n",
              "      <td>0.000000</td>\n",
              "    </tr>\n",
              "    <tr>\n",
              "      <th>25%</th>\n",
              "      <td>3344.250000</td>\n",
              "      <td>0.000865</td>\n",
              "      <td>0.102750</td>\n",
              "      <td>-6.232500</td>\n",
              "      <td>1.000000</td>\n",
              "    </tr>\n",
              "    <tr>\n",
              "      <th>50%</th>\n",
              "      <td>5776.000000</td>\n",
              "      <td>0.070500</td>\n",
              "      <td>0.762500</td>\n",
              "      <td>8.313000</td>\n",
              "      <td>2.500000</td>\n",
              "    </tr>\n",
              "    <tr>\n",
              "      <th>75%</th>\n",
              "      <td>15055.500000</td>\n",
              "      <td>198050.000000</td>\n",
              "      <td>42.750000</td>\n",
              "      <td>13.697500</td>\n",
              "      <td>4.000000</td>\n",
              "    </tr>\n",
              "    <tr>\n",
              "      <th>max</th>\n",
              "      <td>40000.000000</td>\n",
              "      <td>849420.000000</td>\n",
              "      <td>1948.500000</td>\n",
              "      <td>20.060000</td>\n",
              "      <td>5.000000</td>\n",
              "    </tr>\n",
              "  </tbody>\n",
              "</table>\n",
              "</div>\n",
              "    <div class=\"colab-df-buttons\">\n",
              "\n",
              "  <div class=\"colab-df-container\">\n",
              "    <button class=\"colab-df-convert\" onclick=\"convertToInteractive('df-a4be5109-c974-4ed0-a41c-19b8b51bfc30')\"\n",
              "            title=\"Convert this dataframe to an interactive table.\"\n",
              "            style=\"display:none;\">\n",
              "\n",
              "  <svg xmlns=\"http://www.w3.org/2000/svg\" height=\"24px\" viewBox=\"0 -960 960 960\">\n",
              "    <path d=\"M120-120v-720h720v720H120Zm60-500h600v-160H180v160Zm220 220h160v-160H400v160Zm0 220h160v-160H400v160ZM180-400h160v-160H180v160Zm440 0h160v-160H620v160ZM180-180h160v-160H180v160Zm440 0h160v-160H620v160Z\"/>\n",
              "  </svg>\n",
              "    </button>\n",
              "\n",
              "  <style>\n",
              "    .colab-df-container {\n",
              "      display:flex;\n",
              "      gap: 12px;\n",
              "    }\n",
              "\n",
              "    .colab-df-convert {\n",
              "      background-color: #E8F0FE;\n",
              "      border: none;\n",
              "      border-radius: 50%;\n",
              "      cursor: pointer;\n",
              "      display: none;\n",
              "      fill: #1967D2;\n",
              "      height: 32px;\n",
              "      padding: 0 0 0 0;\n",
              "      width: 32px;\n",
              "    }\n",
              "\n",
              "    .colab-df-convert:hover {\n",
              "      background-color: #E2EBFA;\n",
              "      box-shadow: 0px 1px 2px rgba(60, 64, 67, 0.3), 0px 1px 3px 1px rgba(60, 64, 67, 0.15);\n",
              "      fill: #174EA6;\n",
              "    }\n",
              "\n",
              "    .colab-df-buttons div {\n",
              "      margin-bottom: 4px;\n",
              "    }\n",
              "\n",
              "    [theme=dark] .colab-df-convert {\n",
              "      background-color: #3B4455;\n",
              "      fill: #D2E3FC;\n",
              "    }\n",
              "\n",
              "    [theme=dark] .colab-df-convert:hover {\n",
              "      background-color: #434B5C;\n",
              "      box-shadow: 0px 1px 3px 1px rgba(0, 0, 0, 0.15);\n",
              "      filter: drop-shadow(0px 1px 2px rgba(0, 0, 0, 0.3));\n",
              "      fill: #FFFFFF;\n",
              "    }\n",
              "  </style>\n",
              "\n",
              "    <script>\n",
              "      const buttonEl =\n",
              "        document.querySelector('#df-a4be5109-c974-4ed0-a41c-19b8b51bfc30 button.colab-df-convert');\n",
              "      buttonEl.style.display =\n",
              "        google.colab.kernel.accessAllowed ? 'block' : 'none';\n",
              "\n",
              "      async function convertToInteractive(key) {\n",
              "        const element = document.querySelector('#df-a4be5109-c974-4ed0-a41c-19b8b51bfc30');\n",
              "        const dataTable =\n",
              "          await google.colab.kernel.invokeFunction('convertToInteractive',\n",
              "                                                    [key], {});\n",
              "        if (!dataTable) return;\n",
              "\n",
              "        const docLinkHtml = 'Like what you see? Visit the ' +\n",
              "          '<a target=\"_blank\" href=https://colab.research.google.com/notebooks/data_table.ipynb>data table notebook</a>'\n",
              "          + ' to learn more about interactive tables.';\n",
              "        element.innerHTML = '';\n",
              "        dataTable['output_type'] = 'display_data';\n",
              "        await google.colab.output.renderOutput(dataTable, element);\n",
              "        const docLink = document.createElement('div');\n",
              "        docLink.innerHTML = docLinkHtml;\n",
              "        element.appendChild(docLink);\n",
              "      }\n",
              "    </script>\n",
              "  </div>\n",
              "\n",
              "\n",
              "<div id=\"df-09b62328-408f-4284-a800-65db2ea0a8eb\">\n",
              "  <button class=\"colab-df-quickchart\" onclick=\"quickchart('df-09b62328-408f-4284-a800-65db2ea0a8eb')\"\n",
              "            title=\"Suggest charts\"\n",
              "            style=\"display:none;\">\n",
              "\n",
              "<svg xmlns=\"http://www.w3.org/2000/svg\" height=\"24px\"viewBox=\"0 0 24 24\"\n",
              "     width=\"24px\">\n",
              "    <g>\n",
              "        <path d=\"M19 3H5c-1.1 0-2 .9-2 2v14c0 1.1.9 2 2 2h14c1.1 0 2-.9 2-2V5c0-1.1-.9-2-2-2zM9 17H7v-7h2v7zm4 0h-2V7h2v10zm4 0h-2v-4h2v4z\"/>\n",
              "    </g>\n",
              "</svg>\n",
              "  </button>\n",
              "\n",
              "<style>\n",
              "  .colab-df-quickchart {\n",
              "      --bg-color: #E8F0FE;\n",
              "      --fill-color: #1967D2;\n",
              "      --hover-bg-color: #E2EBFA;\n",
              "      --hover-fill-color: #174EA6;\n",
              "      --disabled-fill-color: #AAA;\n",
              "      --disabled-bg-color: #DDD;\n",
              "  }\n",
              "\n",
              "  [theme=dark] .colab-df-quickchart {\n",
              "      --bg-color: #3B4455;\n",
              "      --fill-color: #D2E3FC;\n",
              "      --hover-bg-color: #434B5C;\n",
              "      --hover-fill-color: #FFFFFF;\n",
              "      --disabled-bg-color: #3B4455;\n",
              "      --disabled-fill-color: #666;\n",
              "  }\n",
              "\n",
              "  .colab-df-quickchart {\n",
              "    background-color: var(--bg-color);\n",
              "    border: none;\n",
              "    border-radius: 50%;\n",
              "    cursor: pointer;\n",
              "    display: none;\n",
              "    fill: var(--fill-color);\n",
              "    height: 32px;\n",
              "    padding: 0;\n",
              "    width: 32px;\n",
              "  }\n",
              "\n",
              "  .colab-df-quickchart:hover {\n",
              "    background-color: var(--hover-bg-color);\n",
              "    box-shadow: 0 1px 2px rgba(60, 64, 67, 0.3), 0 1px 3px 1px rgba(60, 64, 67, 0.15);\n",
              "    fill: var(--button-hover-fill-color);\n",
              "  }\n",
              "\n",
              "  .colab-df-quickchart-complete:disabled,\n",
              "  .colab-df-quickchart-complete:disabled:hover {\n",
              "    background-color: var(--disabled-bg-color);\n",
              "    fill: var(--disabled-fill-color);\n",
              "    box-shadow: none;\n",
              "  }\n",
              "\n",
              "  .colab-df-spinner {\n",
              "    border: 2px solid var(--fill-color);\n",
              "    border-color: transparent;\n",
              "    border-bottom-color: var(--fill-color);\n",
              "    animation:\n",
              "      spin 1s steps(1) infinite;\n",
              "  }\n",
              "\n",
              "  @keyframes spin {\n",
              "    0% {\n",
              "      border-color: transparent;\n",
              "      border-bottom-color: var(--fill-color);\n",
              "      border-left-color: var(--fill-color);\n",
              "    }\n",
              "    20% {\n",
              "      border-color: transparent;\n",
              "      border-left-color: var(--fill-color);\n",
              "      border-top-color: var(--fill-color);\n",
              "    }\n",
              "    30% {\n",
              "      border-color: transparent;\n",
              "      border-left-color: var(--fill-color);\n",
              "      border-top-color: var(--fill-color);\n",
              "      border-right-color: var(--fill-color);\n",
              "    }\n",
              "    40% {\n",
              "      border-color: transparent;\n",
              "      border-right-color: var(--fill-color);\n",
              "      border-top-color: var(--fill-color);\n",
              "    }\n",
              "    60% {\n",
              "      border-color: transparent;\n",
              "      border-right-color: var(--fill-color);\n",
              "    }\n",
              "    80% {\n",
              "      border-color: transparent;\n",
              "      border-right-color: var(--fill-color);\n",
              "      border-bottom-color: var(--fill-color);\n",
              "    }\n",
              "    90% {\n",
              "      border-color: transparent;\n",
              "      border-bottom-color: var(--fill-color);\n",
              "    }\n",
              "  }\n",
              "</style>\n",
              "\n",
              "  <script>\n",
              "    async function quickchart(key) {\n",
              "      const quickchartButtonEl =\n",
              "        document.querySelector('#' + key + ' button');\n",
              "      quickchartButtonEl.disabled = true;  // To prevent multiple clicks.\n",
              "      quickchartButtonEl.classList.add('colab-df-spinner');\n",
              "      try {\n",
              "        const charts = await google.colab.kernel.invokeFunction(\n",
              "            'suggestCharts', [key], {});\n",
              "      } catch (error) {\n",
              "        console.error('Error during call to suggestCharts:', error);\n",
              "      }\n",
              "      quickchartButtonEl.classList.remove('colab-df-spinner');\n",
              "      quickchartButtonEl.classList.add('colab-df-quickchart-complete');\n",
              "    }\n",
              "    (() => {\n",
              "      let quickchartButtonEl =\n",
              "        document.querySelector('#df-09b62328-408f-4284-a800-65db2ea0a8eb button');\n",
              "      quickchartButtonEl.style.display =\n",
              "        google.colab.kernel.accessAllowed ? 'block' : 'none';\n",
              "    })();\n",
              "  </script>\n",
              "</div>\n",
              "    </div>\n",
              "  </div>\n"
            ]
          },
          "metadata": {},
          "execution_count": 8
        }
      ]
    },
    {
      "cell_type": "markdown",
      "source": [
        "## Предобработка и исследовательский анализ данных."
      ],
      "metadata": {
        "id": "Q1kiaS5Qplcs"
      }
    },
    {
      "cell_type": "markdown",
      "source": [
        "Приведем названия столбцов к snake_case."
      ],
      "metadata": {
        "id": "JUCs6QRUprnE"
      }
    },
    {
      "cell_type": "code",
      "source": [
        "data = data.rename(columns={'Temperature (K)': 'temperature', 'Luminosity(L/Lo)': 'luminosity', 'Radius(R/Ro)': 'radius', 'Absolute magnitude(Mv)': 'absolute_magnitude', 'Star type': 'star_type', 'Star color': 'star_color'})"
      ],
      "metadata": {
        "id": "FXnztRQQmgE8"
      },
      "execution_count": null,
      "outputs": []
    },
    {
      "cell_type": "code",
      "source": [
        "train_data, test_data = train_test_split(data, train_size=0.8, random_state=987, shuffle=True)\n",
        "\n",
        "train_data = train_data.reset_index(drop=True)\n",
        "test_data = test_data.reset_index(drop=True)"
      ],
      "metadata": {
        "id": "EUJHJa7hHWsV"
      },
      "execution_count": null,
      "outputs": []
    },
    {
      "cell_type": "code",
      "source": [
        "train_data.shape, test_data.shape"
      ],
      "metadata": {
        "colab": {
          "base_uri": "https://localhost:8080/"
        },
        "id": "c05-31FOHvtL",
        "outputId": "cebdfbb6-5ad2-43d5-e502-475a8193ba45"
      },
      "execution_count": null,
      "outputs": [
        {
          "output_type": "execute_result",
          "data": {
            "text/plain": [
              "((192, 6), (48, 6))"
            ]
          },
          "metadata": {},
          "execution_count": 11
        }
      ]
    },
    {
      "cell_type": "markdown",
      "source": [
        "Проверим, нет ли пропусков и дубликатов в данных."
      ],
      "metadata": {
        "id": "TWZ6AlnXqZcb"
      }
    },
    {
      "cell_type": "code",
      "source": [
        "train_data.isna().sum()"
      ],
      "metadata": {
        "colab": {
          "base_uri": "https://localhost:8080/"
        },
        "id": "JgNcHDRmqWux",
        "outputId": "5ed5e93f-8650-40e1-8a4d-9eebc4479c12"
      },
      "execution_count": null,
      "outputs": [
        {
          "output_type": "execute_result",
          "data": {
            "text/plain": [
              "temperature           0\n",
              "luminosity            0\n",
              "radius                0\n",
              "absolute_magnitude    0\n",
              "star_type             0\n",
              "star_color            0\n",
              "dtype: int64"
            ]
          },
          "metadata": {},
          "execution_count": 12
        }
      ]
    },
    {
      "cell_type": "code",
      "source": [
        "train_data.duplicated().sum()"
      ],
      "metadata": {
        "colab": {
          "base_uri": "https://localhost:8080/"
        },
        "id": "6hi5Nof2qhNn",
        "outputId": "eabe06d2-7315-4278-f146-bdd36680cd39"
      },
      "execution_count": null,
      "outputs": [
        {
          "output_type": "execute_result",
          "data": {
            "text/plain": [
              "0"
            ]
          },
          "metadata": {},
          "execution_count": 13
        }
      ]
    },
    {
      "cell_type": "markdown",
      "source": [
        "Дубликатов и пропусков нет."
      ],
      "metadata": {
        "id": "sGuuTtIrqlMQ"
      }
    },
    {
      "cell_type": "code",
      "source": [
        "train_data['star_color'].unique()"
      ],
      "metadata": {
        "colab": {
          "base_uri": "https://localhost:8080/"
        },
        "id": "Iw4OXTQcwG-t",
        "outputId": "749a619c-e83c-4c01-d074-8ef2595cfd81"
      },
      "execution_count": null,
      "outputs": [
        {
          "output_type": "execute_result",
          "data": {
            "text/plain": [
              "array(['Red', 'Blue-white', 'Blue White', 'Blue', 'yellow-white',\n",
              "       'Blue white', 'White', 'white', 'Yellowish White',\n",
              "       'Pale yellow orange', 'Blue-White', 'Yellowish', 'Whitish',\n",
              "       'yellowish', 'Blue ', 'Orange'], dtype=object)"
            ]
          },
          "metadata": {},
          "execution_count": 14
        }
      ]
    },
    {
      "cell_type": "markdown",
      "source": [
        "В фиче star color есть неявные дубликаты. Исправим это."
      ],
      "metadata": {
        "id": "IHWuymk0weod"
      }
    },
    {
      "cell_type": "code",
      "source": [
        "def prepare_star_color(color):\n",
        "  if color == 'Blue ':\n",
        "    return 'Blue'\n",
        "  if 'blue' in color.lower() and 'white' in color.lower():\n",
        "    color = 'Blue-white'\n",
        "  if 'whit' in color.lower() and 'blue' not in color.lower() and 'yellow' not in color.lower():\n",
        "    color = 'White'\n",
        "  if 'white' in color.lower() and 'yellow' in color.lower():\n",
        "    color = 'Yellow-white'\n",
        "  if 'yellowish' in color.lower():\n",
        "    color = 'Yellowish'\n",
        "  if color == 'Pale yellow orange':\n",
        "    color = 'Yellow-orange'\n",
        "  if color == 'Orange-Red':\n",
        "    color = 'Orange-red'\n",
        "  return color.lower()"
      ],
      "metadata": {
        "id": "XKOrnDyLwx4N"
      },
      "execution_count": null,
      "outputs": []
    },
    {
      "cell_type": "code",
      "source": [
        "train_data['star_color'] = train_data['star_color'].apply(prepare_star_color)"
      ],
      "metadata": {
        "id": "A0Hmxf1MyHea"
      },
      "execution_count": null,
      "outputs": []
    },
    {
      "cell_type": "code",
      "source": [
        "train_data['star_color'].unique()"
      ],
      "metadata": {
        "colab": {
          "base_uri": "https://localhost:8080/"
        },
        "id": "F-3vHeWWIqp7",
        "outputId": "3d1b4395-128a-4ddb-b42a-8bb93bbba8a0"
      },
      "execution_count": null,
      "outputs": [
        {
          "output_type": "execute_result",
          "data": {
            "text/plain": [
              "array(['red', 'blue-white', 'blue', 'yellow-white', 'white',\n",
              "       'yellow-orange', 'yellowish', 'Blue', 'orange'], dtype=object)"
            ]
          },
          "metadata": {},
          "execution_count": 17
        }
      ]
    },
    {
      "cell_type": "markdown",
      "source": [
        "Изучим данные фичу luminosity."
      ],
      "metadata": {
        "id": "VUK8w8nZqxhT"
      }
    },
    {
      "cell_type": "code",
      "source": [
        "fig, (ax_hist, ax_box) = plt.subplots(2, sharex=True, gridspec_kw={'height_ratios': (.8, .2)}, figsize=(12, 8))\n",
        "\n",
        "sns.histplot(x=train_data['luminosity'], ax=ax_hist, color='royalblue')\n",
        "sns.boxplot(x=train_data['luminosity'], ax=ax_box, color='royalblue')\n",
        "\n",
        "ax_box.set(xlabel='luminosity')\n",
        "ax_hist.set(ylabel='frequency')\n",
        "ax_hist.set(title='luminosity distribution')\n",
        "plt.show()"
      ],
      "metadata": {
        "colab": {
          "base_uri": "https://localhost:8080/",
          "height": 727
        },
        "id": "3KSrH4R-qjBV",
        "outputId": "d57af784-35be-4359-c105-13a6e0fe7f38"
      },
      "execution_count": null,
      "outputs": [
        {
          "output_type": "display_data",
          "data": {
            "text/plain": [
              "<Figure size 1200x800 with 2 Axes>"
            ],
            "image/png": "[encoded data removed]"
          },
          "metadata": {}
        }
      ]
    },
    {
      "cell_type": "markdown",
      "source": [
        "Распределение экспоненциальное."
      ],
      "metadata": {
        "id": "yGs7CDNSvDhd"
      }
    },
    {
      "cell_type": "markdown",
      "source": [
        "Столбец содержит выбросы."
      ],
      "metadata": {
        "id": "Jsqqy23AtXDm"
      }
    },
    {
      "cell_type": "code",
      "source": [
        "train_data.query('luminosity > 45000')['luminosity'].count()"
      ],
      "metadata": {
        "colab": {
          "base_uri": "https://localhost:8080/"
        },
        "id": "_unTt3Rxq677",
        "outputId": "a643f65f-58c3-457c-a52d-60cf6e4fed31"
      },
      "execution_count": null,
      "outputs": [
        {
          "output_type": "execute_result",
          "data": {
            "text/plain": [
              "68"
            ]
          },
          "metadata": {},
          "execution_count": 19
        }
      ]
    },
    {
      "cell_type": "markdown",
      "source": [
        "В данном датасете экстремально малое количество данных, по этой причнине не будем удалять выбросы."
      ],
      "metadata": {
        "id": "Y28paYfGtojt"
      }
    },
    {
      "cell_type": "markdown",
      "source": [
        "Изучим фичу radius."
      ],
      "metadata": {
        "id": "IsOe7BjJvPcM"
      }
    },
    {
      "cell_type": "code",
      "source": [
        "fig, (ax_hist, ax_box) = plt.subplots(2, sharex=True, gridspec_kw={'height_ratios': (.8, .2)}, figsize=(12, 8))\n",
        "\n",
        "sns.histplot(x=train_data['radius'], ax=ax_hist, color='royalblue')\n",
        "sns.boxplot(x=train_data['radius'], ax=ax_box, color='royalblue')\n",
        "\n",
        "ax_box.set(xlabel='radius')\n",
        "ax_hist.set(ylabel='frequency')\n",
        "ax_hist.set(title='radius distribution')\n",
        "plt.show()"
      ],
      "metadata": {
        "colab": {
          "base_uri": "https://localhost:8080/",
          "height": 727
        },
        "id": "80_j0SVdtsxj",
        "outputId": "2ae7dbef-8805-4827-a721-c175efa5d384"
      },
      "execution_count": null,
      "outputs": [
        {
          "output_type": "display_data",
          "data": {
            "text/plain": [
              "<Figure size 1200x800 with 2 Axes>"
            ],
            "image/png": "[encoded data removed]"
          },
          "metadata": {}
        }
      ]
    },
    {
      "cell_type": "code",
      "source": [
        "train_data.query('radius > 100')['radius'].count()"
      ],
      "metadata": {
        "colab": {
          "base_uri": "https://localhost:8080/"
        },
        "id": "SyYKJNZmuFAU",
        "outputId": "0592afd5-7b30-45f7-f566-29d41bcf5be2"
      },
      "execution_count": null,
      "outputs": [
        {
          "output_type": "execute_result",
          "data": {
            "text/plain": [
              "31"
            ]
          },
          "metadata": {},
          "execution_count": 21
        }
      ]
    },
    {
      "cell_type": "markdown",
      "source": [
        "Распределение радиуса экспоненциальное."
      ],
      "metadata": {
        "id": "oKyLdDonJI_k"
      }
    },
    {
      "cell_type": "markdown",
      "source": [
        "Изучим фичу absolute magnitude."
      ],
      "metadata": {
        "id": "N8fLPN3qvST9"
      }
    },
    {
      "cell_type": "code",
      "source": [
        "fig, (ax_hist, ax_box) = plt.subplots(2, sharex=True, gridspec_kw={'height_ratios': (.8, .2)}, figsize=(12, 8))\n",
        "\n",
        "sns.histplot(x=train_data['absolute_magnitude'], ax=ax_hist, color='royalblue')\n",
        "sns.boxplot(x=train_data['absolute_magnitude'], ax=ax_box, color='royalblue')\n",
        "\n",
        "ax_box.set(xlabel='absolute magnitude')\n",
        "ax_hist.set(ylabel='frequency')\n",
        "ax_hist.set(title='absolute magnitude distribution')\n",
        "plt.show()"
      ],
      "metadata": {
        "colab": {
          "base_uri": "https://localhost:8080/",
          "height": 727
        },
        "id": "Woq99dKpujn7",
        "outputId": "27113bb0-f198-4bce-daec-c6bb80bd44ce"
      },
      "execution_count": null,
      "outputs": [
        {
          "output_type": "display_data",
          "data": {
            "text/plain": [
              "<Figure size 1200x800 with 2 Axes>"
            ],
            "image/png": "[encoded data removed]"
          },
          "metadata": {}
        }
      ]
    },
    {
      "cell_type": "markdown",
      "source": [
        "Фича не имеет выбросов."
      ],
      "metadata": {
        "id": "-ZykfntLvXS1"
      }
    },
    {
      "cell_type": "markdown",
      "source": [
        "Изучим фичу star type."
      ],
      "metadata": {
        "id": "--SCiRgOvdr8"
      }
    },
    {
      "cell_type": "code",
      "source": [
        "fig, ax_hist = plt.subplots(1, sharex=True, figsize=(12, 8))\n",
        "\n",
        "sns.histplot(x=train_data['star_type'], ax=ax_hist, color='purple', bins=5)\n",
        "\n",
        "ax_hist.set(xlabel='star type')\n",
        "ax_hist.set(ylabel='frequency')\n",
        "ax_hist.set(title='star type distribution')\n",
        "plt.show()"
      ],
      "metadata": {
        "colab": {
          "base_uri": "https://localhost:8080/",
          "height": 727
        },
        "id": "kNmFLrXAvhN9",
        "outputId": "f2877e95-2b9c-4720-cbb9-0e2f5dd6cb6d"
      },
      "execution_count": null,
      "outputs": [
        {
          "output_type": "display_data",
          "data": {
            "text/plain": [
              "<Figure size 1200x800 with 1 Axes>"
            ],
            "image/png": "[encoded data removed]"
          },
          "metadata": {}
        }
      ]
    },
    {
      "cell_type": "markdown",
      "source": [
        "В данной фиче так же выбросов нет. Больше всего звезд типа 5, остальные типы распределены почти равномерно."
      ],
      "metadata": {
        "id": "oqMEreHdJUkZ"
      }
    },
    {
      "cell_type": "markdown",
      "source": [
        "Изучим фичу star_color."
      ],
      "metadata": {
        "id": "wCzKSZgevyMM"
      }
    },
    {
      "cell_type": "markdown",
      "source": [
        "Большее количество звезд красного, синего, сине-белого цвета, белого и желто-белого цвета. Остальных цветов очень малое количество, их можно объединить в категорию other."
      ],
      "metadata": {
        "id": "aP2CLGZ21B3w"
      }
    },
    {
      "cell_type": "code",
      "source": [
        "train_data['star_color'].value_counts()"
      ],
      "metadata": {
        "colab": {
          "base_uri": "https://localhost:8080/"
        },
        "id": "XgGiPWzMMkXi",
        "outputId": "e73c0f2e-f057-4d25-f7d9-a75aab9e6614"
      },
      "execution_count": null,
      "outputs": [
        {
          "output_type": "execute_result",
          "data": {
            "text/plain": [
              "red              89\n",
              "blue             43\n",
              "blue-white       35\n",
              "white            11\n",
              "yellow-white      9\n",
              "yellowish         2\n",
              "yellow-orange     1\n",
              "Blue              1\n",
              "orange            1\n",
              "Name: star_color, dtype: int64"
            ]
          },
          "metadata": {},
          "execution_count": 24
        }
      ]
    },
    {
      "cell_type": "code",
      "source": [
        "color_other_categories = train_data['star_color'].value_counts()[:5].index"
      ],
      "metadata": {
        "id": "JmKBc2UjJtqS"
      },
      "execution_count": null,
      "outputs": []
    },
    {
      "cell_type": "code",
      "source": [
        "train_data.loc[~train_data['star_color'].isin(color_other_categories), 'star_color'] = 'other'"
      ],
      "metadata": {
        "id": "s2dIrIyoLTkP"
      },
      "execution_count": null,
      "outputs": []
    },
    {
      "cell_type": "code",
      "source": [
        "train_data['star_color'].value_counts()"
      ],
      "metadata": {
        "colab": {
          "base_uri": "https://localhost:8080/"
        },
        "id": "DU11egmqL9vN",
        "outputId": "19255bb6-85f8-42c2-a518-9af9f2f963ac"
      },
      "execution_count": null,
      "outputs": [
        {
          "output_type": "execute_result",
          "data": {
            "text/plain": [
              "red             89\n",
              "blue            43\n",
              "blue-white      35\n",
              "white           11\n",
              "yellow-white     9\n",
              "other            5\n",
              "Name: star_color, dtype: int64"
            ]
          },
          "metadata": {},
          "execution_count": 27
        }
      ]
    },
    {
      "cell_type": "code",
      "source": [
        "fig, ax_hist = plt.subplots(1, sharex=True, figsize=(12, 8))\n",
        "\n",
        "sns.histplot(x=train_data['star_color'], ax=ax_hist, color='purple', bins=5)\n",
        "\n",
        "ax_hist.set(xlabel='star color')\n",
        "ax_hist.set(ylabel='frequency')\n",
        "ax_hist.set(title='star color distribution')\n",
        "plt.show()"
      ],
      "metadata": {
        "colab": {
          "base_uri": "https://localhost:8080/",
          "height": 727
        },
        "id": "0JK5ALZxvx-d",
        "outputId": "25a69e50-cf5f-4617-bb70-970bcebddb3f"
      },
      "execution_count": null,
      "outputs": [
        {
          "output_type": "display_data",
          "data": {
            "text/plain": [
              "<Figure size 1200x800 with 1 Axes>"
            ],
            "image/png": "[encoded data removed]"
          },
          "metadata": {}
        }
      ]
    },
    {
      "cell_type": "markdown",
      "source": [
        "Изучим таргет - temperature."
      ],
      "metadata": {
        "id": "coM-v4zb3MBF"
      }
    },
    {
      "cell_type": "code",
      "source": [
        "fig, (ax_hist, ax_box) = plt.subplots(2, sharex=True, gridspec_kw={'height_ratios': (.8, .2)}, figsize=(12, 8))\n",
        "\n",
        "sns.histplot(x=train_data['temperature'], ax=ax_hist, color='royalblue')\n",
        "sns.boxplot(x=train_data['temperature'], ax=ax_box, color='royalblue')\n",
        "\n",
        "ax_box.set(xlabel='temperature')\n",
        "ax_hist.set(ylabel='frequency')\n",
        "ax_hist.set(title='temperature distribution')\n",
        "plt.show()"
      ],
      "metadata": {
        "colab": {
          "base_uri": "https://localhost:8080/",
          "height": 727
        },
        "id": "8tJruYdv3IcH",
        "outputId": "f07812b3-894a-49cc-ee03-1dfb30941e6f"
      },
      "execution_count": null,
      "outputs": [
        {
          "output_type": "display_data",
          "data": {
            "text/plain": [
              "<Figure size 1200x800 with 2 Axes>"
            ],
            "image/png": "[encoded data removed]"
          },
          "metadata": {}
        }
      ]
    },
    {
      "cell_type": "code",
      "source": [
        "train_data.query('temperature > 30000')['temperature'].count()"
      ],
      "metadata": {
        "colab": {
          "base_uri": "https://localhost:8080/"
        },
        "id": "aevb2h283Txd",
        "outputId": "8bd33722-eef8-4ce5-e87f-d4345e7b95e8"
      },
      "execution_count": null,
      "outputs": [
        {
          "output_type": "execute_result",
          "data": {
            "text/plain": [
              "11"
            ]
          },
          "metadata": {},
          "execution_count": 30
        }
      ]
    },
    {
      "cell_type": "markdown",
      "source": [
        "Таргет распределен экспоненциально."
      ],
      "metadata": {
        "id": "CubRwm8BMUX7"
      }
    },
    {
      "cell_type": "code",
      "source": [
        "sns.pairplot(train_data)"
      ],
      "metadata": {
        "colab": {
          "base_uri": "https://localhost:8080/",
          "height": 1000
        },
        "id": "4n5O-loM1XDu",
        "outputId": "2e5d8d40-9f5b-4628-efed-50344f508792"
      },
      "execution_count": null,
      "outputs": [
        {
          "output_type": "execute_result",
          "data": {
            "text/plain": [
              "<seaborn.axisgrid.PairGrid at 0x7e9032f8db10>"
            ]
          },
          "metadata": {},
          "execution_count": 31
        },
        {
          "output_type": "display_data",
          "data": {
            "text/plain": [
              "<Figure size 1250x1250 with 30 Axes>"
            ],
            "image/png": "[encoded data removed]"
          },
          "metadata": {}
        }
      ]
    },
    {
      "cell_type": "code",
      "source": [
        "sns.heatmap(train_data.corr(), annot=True)"
      ],
      "metadata": {
        "colab": {
          "base_uri": "https://localhost:8080/",
          "height": 637
        },
        "id": "9D2ycuKq1ZkF",
        "outputId": "cb1e4a7c-d0c4-4875-8c84-16094ecfcd4f"
      },
      "execution_count": null,
      "outputs": [
        {
          "output_type": "stream",
          "name": "stderr",
          "text": [
            "The default value of numeric_only in DataFrame.corr is deprecated. In a future version, it will default to False. Select only valid columns or specify the value of numeric_only to silence this warning.\n"
          ]
        },
        {
          "output_type": "execute_result",
          "data": {
            "text/plain": [
              "<Axes: >"
            ]
          },
          "metadata": {},
          "execution_count": 32
        },
        {
          "output_type": "display_data",
          "data": {
            "text/plain": [
              "<Figure size 640x480 with 2 Axes>"
            ],
            "image/png": "[encoded data removed]"
          },
          "metadata": {}
        }
      ]
    },
    {
      "cell_type": "markdown",
      "source": [
        "На тепловой карте видно, что фича absolute_magnitude достаточно сильно коррелирует со всеми другими фичами, в частности с star_type. Коэффициент корреляции очень большой и это говорит о мультиколлинеарности.\n",
        "\n",
        "Также значимая корреляция между температурой и: типом звезды и светимостью. Между светимостью и: радиусом и типом звезды."
      ],
      "metadata": {
        "id": "fMsOJRf42S7W"
      }
    },
    {
      "cell_type": "code",
      "source": [
        "train_data.info()"
      ],
      "metadata": {
        "colab": {
          "base_uri": "https://localhost:8080/"
        },
        "id": "3VG5Cheht3zr",
        "outputId": "88d4d425-fbdc-4402-d5f8-7178ac1832bf"
      },
      "execution_count": null,
      "outputs": [
        {
          "output_type": "stream",
          "name": "stdout",
          "text": [
            "<class 'pandas.core.frame.DataFrame'>\n",
            "RangeIndex: 192 entries, 0 to 191\n",
            "Data columns (total 6 columns):\n",
            " #   Column              Non-Null Count  Dtype  \n",
            "---  ------              --------------  -----  \n",
            " 0   temperature         192 non-null    int64  \n",
            " 1   luminosity          192 non-null    float64\n",
            " 2   radius              192 non-null    float64\n",
            " 3   absolute_magnitude  192 non-null    float64\n",
            " 4   star_type           192 non-null    int64  \n",
            " 5   star_color          192 non-null    object \n",
            "dtypes: float64(3), int64(2), object(1)\n",
            "memory usage: 9.1+ KB\n"
          ]
        }
      ]
    },
    {
      "cell_type": "markdown",
      "source": [
        "## Обучение моделей"
      ],
      "metadata": {
        "id": "ubRl_XI6AprJ"
      }
    },
    {
      "cell_type": "markdown",
      "source": [
        "Выделим фичи и таргет для каждой из двух выборок.\n",
        "\n",
        "Не будем выделять валидационноую выборку, так как будем использовать кросс-валидацию."
      ],
      "metadata": {
        "id": "w8nwAageAsJ-"
      }
    },
    {
      "cell_type": "code",
      "source": [
        "x_train = train_data.drop(columns=['temperature'], axis=1)\n",
        "y_train = train_data['temperature']"
      ],
      "metadata": {
        "id": "d6x8pAEEt5QC"
      },
      "execution_count": null,
      "outputs": []
    },
    {
      "cell_type": "code",
      "source": [
        "x_train.shape, y_train.shape"
      ],
      "metadata": {
        "colab": {
          "base_uri": "https://localhost:8080/"
        },
        "id": "rW7QDqhGA7fn",
        "outputId": "ef99ba38-48e8-45ad-feb6-b0c326ed321f"
      },
      "execution_count": null,
      "outputs": [
        {
          "output_type": "execute_result",
          "data": {
            "text/plain": [
              "((192, 5), (192,))"
            ]
          },
          "metadata": {},
          "execution_count": 35
        }
      ]
    },
    {
      "cell_type": "markdown",
      "source": [
        "Напишем функцию предобработки тестовой выборки."
      ],
      "metadata": {
        "id": "GUnFOtFUTAuI"
      }
    },
    {
      "cell_type": "code",
      "source": [
        "def test_sample_preprocessing(df):\n",
        "  df['star_color'] = df['star_color'].apply(prepare_star_color)\n",
        "  df.loc[~df['star_color'].isin(color_other_categories), 'star_color'] = 'other'\n",
        "\n",
        "  return df"
      ],
      "metadata": {
        "id": "_qc1J_yETDzy"
      },
      "execution_count": null,
      "outputs": []
    },
    {
      "cell_type": "code",
      "source": [
        "test_data = test_sample_preprocessing(test_data)"
      ],
      "metadata": {
        "id": "TdUEZAXUT91l"
      },
      "execution_count": null,
      "outputs": []
    },
    {
      "cell_type": "code",
      "source": [
        "x_test = test_data.drop(columns=['temperature'], axis=1)\n",
        "y_test = test_data['temperature']"
      ],
      "metadata": {
        "id": "UfSQZw9NWlNq"
      },
      "execution_count": null,
      "outputs": []
    },
    {
      "cell_type": "markdown",
      "source": [
        "Для начала попробуем использовать модель линейной регрессии"
      ],
      "metadata": {
        "id": "7sHjwK7iA9KS"
      }
    },
    {
      "cell_type": "markdown",
      "source": [
        "Применим к датасету OheHotEncoder и StandardScaler"
      ],
      "metadata": {
        "id": "8UlW9RwlBBB8"
      }
    },
    {
      "cell_type": "code",
      "source": [
        "cat_features = ['star_type', 'star_color']\n",
        "num_features = ['luminosity', 'radius', 'absolute_magnitude']"
      ],
      "metadata": {
        "id": "kiAHyfo0BApW"
      },
      "execution_count": null,
      "outputs": []
    },
    {
      "cell_type": "code",
      "source": [
        "ohe = OneHotEncoder(drop='first', handle_unknown='ignore', sparse_output=False)"
      ],
      "metadata": {
        "id": "OfvrSrPXBKa5"
      },
      "execution_count": null,
      "outputs": []
    },
    {
      "cell_type": "code",
      "source": [
        "x_train_ohe = pd.DataFrame(ohe.fit_transform(x_train[cat_features]), columns=ohe.get_feature_names_out())\n",
        "x_train_ohe[num_features] = x_train[num_features]"
      ],
      "metadata": {
        "id": "Pqohtm1HBcse"
      },
      "execution_count": null,
      "outputs": []
    },
    {
      "cell_type": "code",
      "source": [
        "x_train_ohe.info()"
      ],
      "metadata": {
        "colab": {
          "base_uri": "https://localhost:8080/"
        },
        "id": "nnnmGafJBh5t",
        "outputId": "5ecacc71-a661-4a5f-ba37-10043ad329e9"
      },
      "execution_count": null,
      "outputs": [
        {
          "output_type": "stream",
          "name": "stdout",
          "text": [
            "<class 'pandas.core.frame.DataFrame'>\n",
            "RangeIndex: 192 entries, 0 to 191\n",
            "Data columns (total 13 columns):\n",
            " #   Column                   Non-Null Count  Dtype  \n",
            "---  ------                   --------------  -----  \n",
            " 0   star_type_1              192 non-null    float64\n",
            " 1   star_type_2              192 non-null    float64\n",
            " 2   star_type_3              192 non-null    float64\n",
            " 3   star_type_4              192 non-null    float64\n",
            " 4   star_type_5              192 non-null    float64\n",
            " 5   star_color_blue-white    192 non-null    float64\n",
            " 6   star_color_other         192 non-null    float64\n",
            " 7   star_color_red           192 non-null    float64\n",
            " 8   star_color_white         192 non-null    float64\n",
            " 9   star_color_yellow-white  192 non-null    float64\n",
            " 10  luminosity               192 non-null    float64\n",
            " 11  radius                   192 non-null    float64\n",
            " 12  absolute_magnitude       192 non-null    float64\n",
            "dtypes: float64(13)\n",
            "memory usage: 19.6 KB\n"
          ]
        }
      ]
    },
    {
      "cell_type": "code",
      "source": [
        "st_scaler = StandardScaler()"
      ],
      "metadata": {
        "id": "42kPvlVrBi9u"
      },
      "execution_count": null,
      "outputs": []
    },
    {
      "cell_type": "code",
      "source": [
        "x_train_ohe_st = pd.DataFrame(st_scaler.fit_transform(x_train_ohe), columns=x_train_ohe.columns)"
      ],
      "metadata": {
        "id": "DF0-HzlWBkDm"
      },
      "execution_count": null,
      "outputs": []
    },
    {
      "cell_type": "code",
      "source": [
        "x_test_ohe = pd.DataFrame(ohe.transform(x_test[cat_features]), columns=ohe.get_feature_names_out())\n",
        "x_test_ohe[num_features] = x_test[num_features]\n",
        "x_test_ohe_st = pd.DataFrame(st_scaler.transform(x_test_ohe), columns=x_test_ohe.columns)\n",
        "x_test = x_test_ohe_st"
      ],
      "metadata": {
        "id": "lBT-mJEmYnWo"
      },
      "execution_count": null,
      "outputs": []
    },
    {
      "cell_type": "code",
      "source": [
        "lin_reg = LinearRegression()"
      ],
      "metadata": {
        "id": "yPcVd7jLBnag"
      },
      "execution_count": null,
      "outputs": []
    },
    {
      "cell_type": "code",
      "source": [
        "abs(cross_val_score(lin_reg, x_train_ohe_st, y_train, scoring='neg_root_mean_squared_error', cv=5)).mean()"
      ],
      "metadata": {
        "colab": {
          "base_uri": "https://localhost:8080/"
        },
        "id": "Pu5fPsyTBox_",
        "outputId": "530ae505-3bb0-4860-e0ed-622b6b4b9f22"
      },
      "execution_count": null,
      "outputs": [
        {
          "output_type": "execute_result",
          "data": {
            "text/plain": [
              "5088.190388148758"
            ]
          },
          "metadata": {},
          "execution_count": 43
        }
      ]
    },
    {
      "cell_type": "markdown",
      "source": [
        "На трейне линейная регрессия дала RMSE = 5088."
      ],
      "metadata": {
        "id": "EymXE4N2Ckgb"
      }
    },
    {
      "cell_type": "markdown",
      "source": [
        "Теперь попробуем использовать CatBoost."
      ],
      "metadata": {
        "id": "-9NEpGTnDUcO"
      }
    },
    {
      "cell_type": "markdown",
      "source": [
        "Для этого применим порядковое кодирование."
      ],
      "metadata": {
        "id": "pz0i811TDaCj"
      }
    },
    {
      "cell_type": "code",
      "source": [
        "ord_enc = OrdinalEncoder(handle_unknown='use_encoded_value', unknown_value=-1)"
      ],
      "metadata": {
        "id": "4bTVsKq_DTSV"
      },
      "execution_count": null,
      "outputs": []
    },
    {
      "cell_type": "code",
      "source": [
        "x_train_ord = pd.DataFrame(ord_enc.fit_transform(x_train[cat_features]), columns=cat_features)\n",
        "x_train_ord[num_features] = x_train[num_features]"
      ],
      "metadata": {
        "id": "Gc8oaqxxDmZm"
      },
      "execution_count": null,
      "outputs": []
    },
    {
      "cell_type": "code",
      "source": [
        "x_train_ord.head()"
      ],
      "metadata": {
        "colab": {
          "base_uri": "https://localhost:8080/",
          "height": 206
        },
        "id": "xyOkusI5DoA1",
        "outputId": "9ac4d97c-80a6-4923-ff0b-c16285a6c73c"
      },
      "execution_count": null,
      "outputs": [
        {
          "output_type": "execute_result",
          "data": {
            "text/plain": [
              "   star_type  star_color    luminosity  radius  absolute_magnitude\n",
              "0        1.0         3.0      0.001500  0.3070               11.87\n",
              "1        1.0         3.0      0.001300  0.2560               14.33\n",
              "2        1.0         3.0      0.008500  0.1800               13.20\n",
              "3        0.0         3.0      0.000621  0.0773               17.08\n",
              "4        3.0         1.0  16790.000000  6.4000               -4.09"
            ],
            "text/html": [
              "\n",
              "  <div id=\"df-592a1bb1-b23c-4484-936f-86587f7321ea\" class=\"colab-df-container\">\n",
              "    <div>\n",
              "<style scoped>\n",
              "    .dataframe tbody tr th:only-of-type {\n",
              "        vertical-align: middle;\n",
              "    }\n",
              "\n",
              "    .dataframe tbody tr th {\n",
              "        vertical-align: top;\n",
              "    }\n",
              "\n",
              "    .dataframe thead th {\n",
              "        text-align: right;\n",
              "    }\n",
              "</style>\n",
              "<table border=\"1\" class=\"dataframe\">\n",
              "  <thead>\n",
              "    <tr style=\"text-align: right;\">\n",
              "      <th></th>\n",
              "      <th>star_type</th>\n",
              "      <th>star_color</th>\n",
              "      <th>luminosity</th>\n",
              "      <th>radius</th>\n",
              "      <th>absolute_magnitude</th>\n",
              "    </tr>\n",
              "  </thead>\n",
              "  <tbody>\n",
              "    <tr>\n",
              "      <th>0</th>\n",
              "      <td>1.0</td>\n",
              "      <td>3.0</td>\n",
              "      <td>0.001500</td>\n",
              "      <td>0.3070</td>\n",
              "      <td>11.87</td>\n",
              "    </tr>\n",
              "    <tr>\n",
              "      <th>1</th>\n",
              "      <td>1.0</td>\n",
              "      <td>3.0</td>\n",
              "      <td>0.001300</td>\n",
              "      <td>0.2560</td>\n",
              "      <td>14.33</td>\n",
              "    </tr>\n",
              "    <tr>\n",
              "      <th>2</th>\n",
              "      <td>1.0</td>\n",
              "      <td>3.0</td>\n",
              "      <td>0.008500</td>\n",
              "      <td>0.1800</td>\n",
              "      <td>13.20</td>\n",
              "    </tr>\n",
              "    <tr>\n",
              "      <th>3</th>\n",
              "      <td>0.0</td>\n",
              "      <td>3.0</td>\n",
              "      <td>0.000621</td>\n",
              "      <td>0.0773</td>\n",
              "      <td>17.08</td>\n",
              "    </tr>\n",
              "    <tr>\n",
              "      <th>4</th>\n",
              "      <td>3.0</td>\n",
              "      <td>1.0</td>\n",
              "      <td>16790.000000</td>\n",
              "      <td>6.4000</td>\n",
              "      <td>-4.09</td>\n",
              "    </tr>\n",
              "  </tbody>\n",
              "</table>\n",
              "</div>\n",
              "    <div class=\"colab-df-buttons\">\n",
              "\n",
              "  <div class=\"colab-df-container\">\n",
              "    <button class=\"colab-df-convert\" onclick=\"convertToInteractive('df-592a1bb1-b23c-4484-936f-86587f7321ea')\"\n",
              "            title=\"Convert this dataframe to an interactive table.\"\n",
              "            style=\"display:none;\">\n",
              "\n",
              "  <svg xmlns=\"http://www.w3.org/2000/svg\" height=\"24px\" viewBox=\"0 -960 960 960\">\n",
              "    <path d=\"M120-120v-720h720v720H120Zm60-500h600v-160H180v160Zm220 220h160v-160H400v160Zm0 220h160v-160H400v160ZM180-400h160v-160H180v160Zm440 0h160v-160H620v160ZM180-180h160v-160H180v160Zm440 0h160v-160H620v160Z\"/>\n",
              "  </svg>\n",
              "    </button>\n",
              "\n",
              "  <style>\n",
              "    .colab-df-container {\n",
              "      display:flex;\n",
              "      gap: 12px;\n",
              "    }\n",
              "\n",
              "    .colab-df-convert {\n",
              "      background-color: #E8F0FE;\n",
              "      border: none;\n",
              "      border-radius: 50%;\n",
              "      cursor: pointer;\n",
              "      display: none;\n",
              "      fill: #1967D2;\n",
              "      height: 32px;\n",
              "      padding: 0 0 0 0;\n",
              "      width: 32px;\n",
              "    }\n",
              "\n",
              "    .colab-df-convert:hover {\n",
              "      background-color: #E2EBFA;\n",
              "      box-shadow: 0px 1px 2px rgba(60, 64, 67, 0.3), 0px 1px 3px 1px rgba(60, 64, 67, 0.15);\n",
              "      fill: #174EA6;\n",
              "    }\n",
              "\n",
              "    .colab-df-buttons div {\n",
              "      margin-bottom: 4px;\n",
              "    }\n",
              "\n",
              "    [theme=dark] .colab-df-convert {\n",
              "      background-color: #3B4455;\n",
              "      fill: #D2E3FC;\n",
              "    }\n",
              "\n",
              "    [theme=dark] .colab-df-convert:hover {\n",
              "      background-color: #434B5C;\n",
              "      box-shadow: 0px 1px 3px 1px rgba(0, 0, 0, 0.15);\n",
              "      filter: drop-shadow(0px 1px 2px rgba(0, 0, 0, 0.3));\n",
              "      fill: #FFFFFF;\n",
              "    }\n",
              "  </style>\n",
              "\n",
              "    <script>\n",
              "      const buttonEl =\n",
              "        document.querySelector('#df-592a1bb1-b23c-4484-936f-86587f7321ea button.colab-df-convert');\n",
              "      buttonEl.style.display =\n",
              "        google.colab.kernel.accessAllowed ? 'block' : 'none';\n",
              "\n",
              "      async function convertToInteractive(key) {\n",
              "        const element = document.querySelector('#df-592a1bb1-b23c-4484-936f-86587f7321ea');\n",
              "        const dataTable =\n",
              "          await google.colab.kernel.invokeFunction('convertToInteractive',\n",
              "                                                    [key], {});\n",
              "        if (!dataTable) return;\n",
              "\n",
              "        const docLinkHtml = 'Like what you see? Visit the ' +\n",
              "          '<a target=\"_blank\" href=https://colab.research.google.com/notebooks/data_table.ipynb>data table notebook</a>'\n",
              "          + ' to learn more about interactive tables.';\n",
              "        element.innerHTML = '';\n",
              "        dataTable['output_type'] = 'display_data';\n",
              "        await google.colab.output.renderOutput(dataTable, element);\n",
              "        const docLink = document.createElement('div');\n",
              "        docLink.innerHTML = docLinkHtml;\n",
              "        element.appendChild(docLink);\n",
              "      }\n",
              "    </script>\n",
              "  </div>\n",
              "\n",
              "\n",
              "<div id=\"df-a0b9eaac-0637-40c4-a1c0-f0a28039c868\">\n",
              "  <button class=\"colab-df-quickchart\" onclick=\"quickchart('df-a0b9eaac-0637-40c4-a1c0-f0a28039c868')\"\n",
              "            title=\"Suggest charts\"\n",
              "            style=\"display:none;\">\n",
              "\n",
              "<svg xmlns=\"http://www.w3.org/2000/svg\" height=\"24px\"viewBox=\"0 0 24 24\"\n",
              "     width=\"24px\">\n",
              "    <g>\n",
              "        <path d=\"M19 3H5c-1.1 0-2 .9-2 2v14c0 1.1.9 2 2 2h14c1.1 0 2-.9 2-2V5c0-1.1-.9-2-2-2zM9 17H7v-7h2v7zm4 0h-2V7h2v10zm4 0h-2v-4h2v4z\"/>\n",
              "    </g>\n",
              "</svg>\n",
              "  </button>\n",
              "\n",
              "<style>\n",
              "  .colab-df-quickchart {\n",
              "      --bg-color: #E8F0FE;\n",
              "      --fill-color: #1967D2;\n",
              "      --hover-bg-color: #E2EBFA;\n",
              "      --hover-fill-color: #174EA6;\n",
              "      --disabled-fill-color: #AAA;\n",
              "      --disabled-bg-color: #DDD;\n",
              "  }\n",
              "\n",
              "  [theme=dark] .colab-df-quickchart {\n",
              "      --bg-color: #3B4455;\n",
              "      --fill-color: #D2E3FC;\n",
              "      --hover-bg-color: #434B5C;\n",
              "      --hover-fill-color: #FFFFFF;\n",
              "      --disabled-bg-color: #3B4455;\n",
              "      --disabled-fill-color: #666;\n",
              "  }\n",
              "\n",
              "  .colab-df-quickchart {\n",
              "    background-color: var(--bg-color);\n",
              "    border: none;\n",
              "    border-radius: 50%;\n",
              "    cursor: pointer;\n",
              "    display: none;\n",
              "    fill: var(--fill-color);\n",
              "    height: 32px;\n",
              "    padding: 0;\n",
              "    width: 32px;\n",
              "  }\n",
              "\n",
              "  .colab-df-quickchart:hover {\n",
              "    background-color: var(--hover-bg-color);\n",
              "    box-shadow: 0 1px 2px rgba(60, 64, 67, 0.3), 0 1px 3px 1px rgba(60, 64, 67, 0.15);\n",
              "    fill: var(--button-hover-fill-color);\n",
              "  }\n",
              "\n",
              "  .colab-df-quickchart-complete:disabled,\n",
              "  .colab-df-quickchart-complete:disabled:hover {\n",
              "    background-color: var(--disabled-bg-color);\n",
              "    fill: var(--disabled-fill-color);\n",
              "    box-shadow: none;\n",
              "  }\n",
              "\n",
              "  .colab-df-spinner {\n",
              "    border: 2px solid var(--fill-color);\n",
              "    border-color: transparent;\n",
              "    border-bottom-color: var(--fill-color);\n",
              "    animation:\n",
              "      spin 1s steps(1) infinite;\n",
              "  }\n",
              "\n",
              "  @keyframes spin {\n",
              "    0% {\n",
              "      border-color: transparent;\n",
              "      border-bottom-color: var(--fill-color);\n",
              "      border-left-color: var(--fill-color);\n",
              "    }\n",
              "    20% {\n",
              "      border-color: transparent;\n",
              "      border-left-color: var(--fill-color);\n",
              "      border-top-color: var(--fill-color);\n",
              "    }\n",
              "    30% {\n",
              "      border-color: transparent;\n",
              "      border-left-color: var(--fill-color);\n",
              "      border-top-color: var(--fill-color);\n",
              "      border-right-color: var(--fill-color);\n",
              "    }\n",
              "    40% {\n",
              "      border-color: transparent;\n",
              "      border-right-color: var(--fill-color);\n",
              "      border-top-color: var(--fill-color);\n",
              "    }\n",
              "    60% {\n",
              "      border-color: transparent;\n",
              "      border-right-color: var(--fill-color);\n",
              "    }\n",
              "    80% {\n",
              "      border-color: transparent;\n",
              "      border-right-color: var(--fill-color);\n",
              "      border-bottom-color: var(--fill-color);\n",
              "    }\n",
              "    90% {\n",
              "      border-color: transparent;\n",
              "      border-bottom-color: var(--fill-color);\n",
              "    }\n",
              "  }\n",
              "</style>\n",
              "\n",
              "  <script>\n",
              "    async function quickchart(key) {\n",
              "      const quickchartButtonEl =\n",
              "        document.querySelector('#' + key + ' button');\n",
              "      quickchartButtonEl.disabled = true;  // To prevent multiple clicks.\n",
              "      quickchartButtonEl.classList.add('colab-df-spinner');\n",
              "      try {\n",
              "        const charts = await google.colab.kernel.invokeFunction(\n",
              "            'suggestCharts', [key], {});\n",
              "      } catch (error) {\n",
              "        console.error('Error during call to suggestCharts:', error);\n",
              "      }\n",
              "      quickchartButtonEl.classList.remove('colab-df-spinner');\n",
              "      quickchartButtonEl.classList.add('colab-df-quickchart-complete');\n",
              "    }\n",
              "    (() => {\n",
              "      let quickchartButtonEl =\n",
              "        document.querySelector('#df-a0b9eaac-0637-40c4-a1c0-f0a28039c868 button');\n",
              "      quickchartButtonEl.style.display =\n",
              "        google.colab.kernel.accessAllowed ? 'block' : 'none';\n",
              "    })();\n",
              "  </script>\n",
              "</div>\n",
              "    </div>\n",
              "  </div>\n"
            ]
          },
          "metadata": {},
          "execution_count": 46
        }
      ]
    },
    {
      "cell_type": "code",
      "source": [
        "cat_boost = CatBoostRegressor(verbose=250, random_state=987)"
      ],
      "metadata": {
        "id": "4N7-rqEQDzGl"
      },
      "execution_count": null,
      "outputs": []
    },
    {
      "cell_type": "code",
      "source": [
        "abs(cross_val_score(cat_boost, x_train_ord, y_train, cv=5, scoring='neg_root_mean_squared_error').mean())"
      ],
      "metadata": {
        "colab": {
          "base_uri": "https://localhost:8080/"
        },
        "id": "sT93KCqWD0fk",
        "outputId": "cde45835-f4a2-4d88-a29b-2e414f3bd1d9"
      },
      "execution_count": null,
      "outputs": [
        {
          "output_type": "stream",
          "name": "stdout",
          "text": [
            "Learning rate set to 0.030434\n",
            "0:\tlearn: 9095.0401306\ttotal: 48.2ms\tremaining: 48.2s\n",
            "250:\tlearn: 2372.7755108\ttotal: 516ms\tremaining: 1.54s\n",
            "500:\tlearn: 1407.0350222\ttotal: 1.14s\tremaining: 1.13s\n",
            "750:\tlearn: 855.6382102\ttotal: 1.66s\tremaining: 551ms\n",
            "999:\tlearn: 557.2868167\ttotal: 2.21s\tremaining: 0us\n",
            "Learning rate set to 0.030434\n",
            "0:\tlearn: 9648.4996631\ttotal: 14.8ms\tremaining: 14.8s\n",
            "250:\tlearn: 2606.7848685\ttotal: 549ms\tremaining: 1.64s\n",
            "500:\tlearn: 1516.1304588\ttotal: 1.02s\tremaining: 1.02s\n",
            "750:\tlearn: 989.2751856\ttotal: 1.56s\tremaining: 517ms\n",
            "999:\tlearn: 659.2648500\ttotal: 1.9s\tremaining: 0us\n",
            "Learning rate set to 0.030465\n",
            "0:\tlearn: 9700.4036343\ttotal: 3.01ms\tremaining: 3.01s\n",
            "250:\tlearn: 2363.0950844\ttotal: 425ms\tremaining: 1.27s\n",
            "500:\tlearn: 1459.8917853\ttotal: 559ms\tremaining: 557ms\n",
            "750:\tlearn: 906.1825692\ttotal: 716ms\tremaining: 237ms\n",
            "999:\tlearn: 574.4430631\ttotal: 870ms\tremaining: 0us\n",
            "Learning rate set to 0.030465\n",
            "0:\tlearn: 9835.0902916\ttotal: 883us\tremaining: 883ms\n",
            "250:\tlearn: 2478.4249239\ttotal: 152ms\tremaining: 454ms\n",
            "500:\tlearn: 1600.5382089\ttotal: 325ms\tremaining: 323ms\n",
            "750:\tlearn: 993.4084485\ttotal: 493ms\tremaining: 163ms\n",
            "999:\tlearn: 651.9790735\ttotal: 654ms\tremaining: 0us\n",
            "Learning rate set to 0.030465\n",
            "0:\tlearn: 8936.6106583\ttotal: 912us\tremaining: 911ms\n",
            "250:\tlearn: 2300.6016181\ttotal: 160ms\tremaining: 476ms\n",
            "500:\tlearn: 1295.8227059\ttotal: 313ms\tremaining: 311ms\n",
            "750:\tlearn: 810.8915550\ttotal: 497ms\tremaining: 165ms\n",
            "999:\tlearn: 562.7394618\ttotal: 668ms\tremaining: 0us\n"
          ]
        },
        {
          "output_type": "execute_result",
          "data": {
            "text/plain": [
              "4568.355630658107"
            ]
          },
          "metadata": {},
          "execution_count": 48
        }
      ]
    },
    {
      "cell_type": "markdown",
      "source": [
        "Градиентный бустинг на трейне дал значительно лучший результат - 4568."
      ],
      "metadata": {
        "id": "h8huNpLYEBoe"
      }
    },
    {
      "cell_type": "code",
      "source": [
        "x_test.head()"
      ],
      "metadata": {
        "colab": {
          "base_uri": "https://localhost:8080/",
          "height": 243
        },
        "id": "zpbWOTUkU1kV",
        "outputId": "686809ef-5098-4eb5-80de-d34a6d99d11f"
      },
      "execution_count": null,
      "outputs": [
        {
          "output_type": "execute_result",
          "data": {
            "text/plain": [
              "   star_type_1  star_type_2  star_type_3  star_type_4  star_type_5  \\\n",
              "0    -0.421799    -0.447214    -0.455573    -0.438801     2.278936   \n",
              "1     2.370799    -0.447214    -0.455573    -0.438801    -0.438801   \n",
              "2    -0.421799    -0.447214    -0.455573     2.278936    -0.438801   \n",
              "3     2.370799    -0.447214    -0.455573    -0.438801    -0.438801   \n",
              "4    -0.421799    -0.447214     2.195036    -0.438801    -0.438801   \n",
              "\n",
              "   star_color_blue-white  star_color_other  star_color_red  star_color_white  \\\n",
              "0              -0.472155          6.115554       -0.929558         -0.246523   \n",
              "1              -0.472155         -0.163517        1.075780         -0.246523   \n",
              "2              -0.472155         -0.163517       -0.929558         -0.246523   \n",
              "3              -0.472155         -0.163517        1.075780         -0.246523   \n",
              "4               2.117950         -0.163517       -0.929558         -0.246523   \n",
              "\n",
              "   star_color_yellow-white  luminosity    radius  absolute_magnitude  \n",
              "0                -0.221766    2.584740  2.851210           -1.180264  \n",
              "1                -0.221766   -0.588604 -0.448697            0.963990  \n",
              "2                -0.221766    2.838030 -0.288812           -1.106285  \n",
              "3                -0.221766   -0.588604 -0.447555            0.960235  \n",
              "4                -0.221766   -0.581231 -0.437643           -0.736204  "
            ],
            "text/html": [
              "\n",
              "  <div id=\"df-5951af59-9dc9-4d06-b6bc-891156e1c666\" class=\"colab-df-container\">\n",
              "    <div>\n",
              "<style scoped>\n",
              "    .dataframe tbody tr th:only-of-type {\n",
              "        vertical-align: middle;\n",
              "    }\n",
              "\n",
              "    .dataframe tbody tr th {\n",
              "        vertical-align: top;\n",
              "    }\n",
              "\n",
              "    .dataframe thead th {\n",
              "        text-align: right;\n",
              "    }\n",
              "</style>\n",
              "<table border=\"1\" class=\"dataframe\">\n",
              "  <thead>\n",
              "    <tr style=\"text-align: right;\">\n",
              "      <th></th>\n",
              "      <th>star_type_1</th>\n",
              "      <th>star_type_2</th>\n",
              "      <th>star_type_3</th>\n",
              "      <th>star_type_4</th>\n",
              "      <th>star_type_5</th>\n",
              "      <th>star_color_blue-white</th>\n",
              "      <th>star_color_other</th>\n",
              "      <th>star_color_red</th>\n",
              "      <th>star_color_white</th>\n",
              "      <th>star_color_yellow-white</th>\n",
              "      <th>luminosity</th>\n",
              "      <th>radius</th>\n",
              "      <th>absolute_magnitude</th>\n",
              "    </tr>\n",
              "  </thead>\n",
              "  <tbody>\n",
              "    <tr>\n",
              "      <th>0</th>\n",
              "      <td>-0.421799</td>\n",
              "      <td>-0.447214</td>\n",
              "      <td>-0.455573</td>\n",
              "      <td>-0.438801</td>\n",
              "      <td>2.278936</td>\n",
              "      <td>-0.472155</td>\n",
              "      <td>6.115554</td>\n",
              "      <td>-0.929558</td>\n",
              "      <td>-0.246523</td>\n",
              "      <td>-0.221766</td>\n",
              "      <td>2.584740</td>\n",
              "      <td>2.851210</td>\n",
              "      <td>-1.180264</td>\n",
              "    </tr>\n",
              "    <tr>\n",
              "      <th>1</th>\n",
              "      <td>2.370799</td>\n",
              "      <td>-0.447214</td>\n",
              "      <td>-0.455573</td>\n",
              "      <td>-0.438801</td>\n",
              "      <td>-0.438801</td>\n",
              "      <td>-0.472155</td>\n",
              "      <td>-0.163517</td>\n",
              "      <td>1.075780</td>\n",
              "      <td>-0.246523</td>\n",
              "      <td>-0.221766</td>\n",
              "      <td>-0.588604</td>\n",
              "      <td>-0.448697</td>\n",
              "      <td>0.963990</td>\n",
              "    </tr>\n",
              "    <tr>\n",
              "      <th>2</th>\n",
              "      <td>-0.421799</td>\n",
              "      <td>-0.447214</td>\n",
              "      <td>-0.455573</td>\n",
              "      <td>2.278936</td>\n",
              "      <td>-0.438801</td>\n",
              "      <td>-0.472155</td>\n",
              "      <td>-0.163517</td>\n",
              "      <td>-0.929558</td>\n",
              "      <td>-0.246523</td>\n",
              "      <td>-0.221766</td>\n",
              "      <td>2.838030</td>\n",
              "      <td>-0.288812</td>\n",
              "      <td>-1.106285</td>\n",
              "    </tr>\n",
              "    <tr>\n",
              "      <th>3</th>\n",
              "      <td>2.370799</td>\n",
              "      <td>-0.447214</td>\n",
              "      <td>-0.455573</td>\n",
              "      <td>-0.438801</td>\n",
              "      <td>-0.438801</td>\n",
              "      <td>-0.472155</td>\n",
              "      <td>-0.163517</td>\n",
              "      <td>1.075780</td>\n",
              "      <td>-0.246523</td>\n",
              "      <td>-0.221766</td>\n",
              "      <td>-0.588604</td>\n",
              "      <td>-0.447555</td>\n",
              "      <td>0.960235</td>\n",
              "    </tr>\n",
              "    <tr>\n",
              "      <th>4</th>\n",
              "      <td>-0.421799</td>\n",
              "      <td>-0.447214</td>\n",
              "      <td>2.195036</td>\n",
              "      <td>-0.438801</td>\n",
              "      <td>-0.438801</td>\n",
              "      <td>2.117950</td>\n",
              "      <td>-0.163517</td>\n",
              "      <td>-0.929558</td>\n",
              "      <td>-0.246523</td>\n",
              "      <td>-0.221766</td>\n",
              "      <td>-0.581231</td>\n",
              "      <td>-0.437643</td>\n",
              "      <td>-0.736204</td>\n",
              "    </tr>\n",
              "  </tbody>\n",
              "</table>\n",
              "</div>\n",
              "    <div class=\"colab-df-buttons\">\n",
              "\n",
              "  <div class=\"colab-df-container\">\n",
              "    <button class=\"colab-df-convert\" onclick=\"convertToInteractive('df-5951af59-9dc9-4d06-b6bc-891156e1c666')\"\n",
              "            title=\"Convert this dataframe to an interactive table.\"\n",
              "            style=\"display:none;\">\n",
              "\n",
              "  <svg xmlns=\"http://www.w3.org/2000/svg\" height=\"24px\" viewBox=\"0 -960 960 960\">\n",
              "    <path d=\"M120-120v-720h720v720H120Zm60-500h600v-160H180v160Zm220 220h160v-160H400v160Zm0 220h160v-160H400v160ZM180-400h160v-160H180v160Zm440 0h160v-160H620v160ZM180-180h160v-160H180v160Zm440 0h160v-160H620v160Z\"/>\n",
              "  </svg>\n",
              "    </button>\n",
              "\n",
              "  <style>\n",
              "    .colab-df-container {\n",
              "      display:flex;\n",
              "      gap: 12px;\n",
              "    }\n",
              "\n",
              "    .colab-df-convert {\n",
              "      background-color: #E8F0FE;\n",
              "      border: none;\n",
              "      border-radius: 50%;\n",
              "      cursor: pointer;\n",
              "      display: none;\n",
              "      fill: #1967D2;\n",
              "      height: 32px;\n",
              "      padding: 0 0 0 0;\n",
              "      width: 32px;\n",
              "    }\n",
              "\n",
              "    .colab-df-convert:hover {\n",
              "      background-color: #E2EBFA;\n",
              "      box-shadow: 0px 1px 2px rgba(60, 64, 67, 0.3), 0px 1px 3px 1px rgba(60, 64, 67, 0.15);\n",
              "      fill: #174EA6;\n",
              "    }\n",
              "\n",
              "    .colab-df-buttons div {\n",
              "      margin-bottom: 4px;\n",
              "    }\n",
              "\n",
              "    [theme=dark] .colab-df-convert {\n",
              "      background-color: #3B4455;\n",
              "      fill: #D2E3FC;\n",
              "    }\n",
              "\n",
              "    [theme=dark] .colab-df-convert:hover {\n",
              "      background-color: #434B5C;\n",
              "      box-shadow: 0px 1px 3px 1px rgba(0, 0, 0, 0.15);\n",
              "      filter: drop-shadow(0px 1px 2px rgba(0, 0, 0, 0.3));\n",
              "      fill: #FFFFFF;\n",
              "    }\n",
              "  </style>\n",
              "\n",
              "    <script>\n",
              "      const buttonEl =\n",
              "        document.querySelector('#df-5951af59-9dc9-4d06-b6bc-891156e1c666 button.colab-df-convert');\n",
              "      buttonEl.style.display =\n",
              "        google.colab.kernel.accessAllowed ? 'block' : 'none';\n",
              "\n",
              "      async function convertToInteractive(key) {\n",
              "        const element = document.querySelector('#df-5951af59-9dc9-4d06-b6bc-891156e1c666');\n",
              "        const dataTable =\n",
              "          await google.colab.kernel.invokeFunction('convertToInteractive',\n",
              "                                                    [key], {});\n",
              "        if (!dataTable) return;\n",
              "\n",
              "        const docLinkHtml = 'Like what you see? Visit the ' +\n",
              "          '<a target=\"_blank\" href=https://colab.research.google.com/notebooks/data_table.ipynb>data table notebook</a>'\n",
              "          + ' to learn more about interactive tables.';\n",
              "        element.innerHTML = '';\n",
              "        dataTable['output_type'] = 'display_data';\n",
              "        await google.colab.output.renderOutput(dataTable, element);\n",
              "        const docLink = document.createElement('div');\n",
              "        docLink.innerHTML = docLinkHtml;\n",
              "        element.appendChild(docLink);\n",
              "      }\n",
              "    </script>\n",
              "  </div>\n",
              "\n",
              "\n",
              "<div id=\"df-30588318-8c8f-4caa-9463-26f7b6e3e565\">\n",
              "  <button class=\"colab-df-quickchart\" onclick=\"quickchart('df-30588318-8c8f-4caa-9463-26f7b6e3e565')\"\n",
              "            title=\"Suggest charts\"\n",
              "            style=\"display:none;\">\n",
              "\n",
              "<svg xmlns=\"http://www.w3.org/2000/svg\" height=\"24px\"viewBox=\"0 0 24 24\"\n",
              "     width=\"24px\">\n",
              "    <g>\n",
              "        <path d=\"M19 3H5c-1.1 0-2 .9-2 2v14c0 1.1.9 2 2 2h14c1.1 0 2-.9 2-2V5c0-1.1-.9-2-2-2zM9 17H7v-7h2v7zm4 0h-2V7h2v10zm4 0h-2v-4h2v4z\"/>\n",
              "    </g>\n",
              "</svg>\n",
              "  </button>\n",
              "\n",
              "<style>\n",
              "  .colab-df-quickchart {\n",
              "      --bg-color: #E8F0FE;\n",
              "      --fill-color: #1967D2;\n",
              "      --hover-bg-color: #E2EBFA;\n",
              "      --hover-fill-color: #174EA6;\n",
              "      --disabled-fill-color: #AAA;\n",
              "      --disabled-bg-color: #DDD;\n",
              "  }\n",
              "\n",
              "  [theme=dark] .colab-df-quickchart {\n",
              "      --bg-color: #3B4455;\n",
              "      --fill-color: #D2E3FC;\n",
              "      --hover-bg-color: #434B5C;\n",
              "      --hover-fill-color: #FFFFFF;\n",
              "      --disabled-bg-color: #3B4455;\n",
              "      --disabled-fill-color: #666;\n",
              "  }\n",
              "\n",
              "  .colab-df-quickchart {\n",
              "    background-color: var(--bg-color);\n",
              "    border: none;\n",
              "    border-radius: 50%;\n",
              "    cursor: pointer;\n",
              "    display: none;\n",
              "    fill: var(--fill-color);\n",
              "    height: 32px;\n",
              "    padding: 0;\n",
              "    width: 32px;\n",
              "  }\n",
              "\n",
              "  .colab-df-quickchart:hover {\n",
              "    background-color: var(--hover-bg-color);\n",
              "    box-shadow: 0 1px 2px rgba(60, 64, 67, 0.3), 0 1px 3px 1px rgba(60, 64, 67, 0.15);\n",
              "    fill: var(--button-hover-fill-color);\n",
              "  }\n",
              "\n",
              "  .colab-df-quickchart-complete:disabled,\n",
              "  .colab-df-quickchart-complete:disabled:hover {\n",
              "    background-color: var(--disabled-bg-color);\n",
              "    fill: var(--disabled-fill-color);\n",
              "    box-shadow: none;\n",
              "  }\n",
              "\n",
              "  .colab-df-spinner {\n",
              "    border: 2px solid var(--fill-color);\n",
              "    border-color: transparent;\n",
              "    border-bottom-color: var(--fill-color);\n",
              "    animation:\n",
              "      spin 1s steps(1) infinite;\n",
              "  }\n",
              "\n",
              "  @keyframes spin {\n",
              "    0% {\n",
              "      border-color: transparent;\n",
              "      border-bottom-color: var(--fill-color);\n",
              "      border-left-color: var(--fill-color);\n",
              "    }\n",
              "    20% {\n",
              "      border-color: transparent;\n",
              "      border-left-color: var(--fill-color);\n",
              "      border-top-color: var(--fill-color);\n",
              "    }\n",
              "    30% {\n",
              "      border-color: transparent;\n",
              "      border-left-color: var(--fill-color);\n",
              "      border-top-color: var(--fill-color);\n",
              "      border-right-color: var(--fill-color);\n",
              "    }\n",
              "    40% {\n",
              "      border-color: transparent;\n",
              "      border-right-color: var(--fill-color);\n",
              "      border-top-color: var(--fill-color);\n",
              "    }\n",
              "    60% {\n",
              "      border-color: transparent;\n",
              "      border-right-color: var(--fill-color);\n",
              "    }\n",
              "    80% {\n",
              "      border-color: transparent;\n",
              "      border-right-color: var(--fill-color);\n",
              "      border-bottom-color: var(--fill-color);\n",
              "    }\n",
              "    90% {\n",
              "      border-color: transparent;\n",
              "      border-bottom-color: var(--fill-color);\n",
              "    }\n",
              "  }\n",
              "</style>\n",
              "\n",
              "  <script>\n",
              "    async function quickchart(key) {\n",
              "      const quickchartButtonEl =\n",
              "        document.querySelector('#' + key + ' button');\n",
              "      quickchartButtonEl.disabled = true;  // To prevent multiple clicks.\n",
              "      quickchartButtonEl.classList.add('colab-df-spinner');\n",
              "      try {\n",
              "        const charts = await google.colab.kernel.invokeFunction(\n",
              "            'suggestCharts', [key], {});\n",
              "      } catch (error) {\n",
              "        console.error('Error during call to suggestCharts:', error);\n",
              "      }\n",
              "      quickchartButtonEl.classList.remove('colab-df-spinner');\n",
              "      quickchartButtonEl.classList.add('colab-df-quickchart-complete');\n",
              "    }\n",
              "    (() => {\n",
              "      let quickchartButtonEl =\n",
              "        document.querySelector('#df-30588318-8c8f-4caa-9463-26f7b6e3e565 button');\n",
              "      quickchartButtonEl.style.display =\n",
              "        google.colab.kernel.accessAllowed ? 'block' : 'none';\n",
              "    })();\n",
              "  </script>\n",
              "</div>\n",
              "    </div>\n",
              "  </div>\n"
            ]
          },
          "metadata": {},
          "execution_count": 53
        }
      ]
    },
    {
      "cell_type": "markdown",
      "source": [
        "Попробуем для решения задачи использовать различные архитектуры нейронных сетей."
      ],
      "metadata": {
        "id": "r4vwPGeCG-sK"
      }
    },
    {
      "cell_type": "markdown",
      "source": [
        "Используем разные нейронные сети с 1, 2 и 3 скрытыми слоями. Выясним, при каком количестве нейронов в каждом слое модель показывает наилучшие результаты."
      ],
      "metadata": {
        "id": "0--u3z4meibV"
      }
    },
    {
      "cell_type": "code",
      "source": [
        "x_train = torch.FloatTensor(x_train_ohe_st.values)\n",
        "y_train = torch.FloatTensor(y_train.values).reshape(y_train.shape[0], 1)\n",
        "\n",
        "x_test = torch.FloatTensor(x_test_ohe_st.values)\n",
        "y_test = torch.FloatTensor(y_test.values).reshape(y_test.shape[0], 1)"
      ],
      "metadata": {
        "id": "4Df_prdNjEqB"
      },
      "execution_count": null,
      "outputs": []
    },
    {
      "cell_type": "code",
      "source": [
        "n_in_neurons = x_train.shape[1]\n",
        "n_out_neurons = 1"
      ],
      "metadata": {
        "id": "LfSEizfHdjRF"
      },
      "execution_count": null,
      "outputs": []
    },
    {
      "cell_type": "code",
      "source": [
        "mean_squared_error = MeanSquaredError(squared=False)\n",
        "loss = nn.MSELoss()"
      ],
      "metadata": {
        "id": "Rp358pfcZn-B"
      },
      "execution_count": null,
      "outputs": []
    },
    {
      "cell_type": "code",
      "source": [
        "for n_hidden_neurons_1 in range(500, 1501, 50):\n",
        "  net = nn.Sequential(\n",
        "      nn.Linear(n_in_neurons, n_hidden_neurons_1),\n",
        "      nn.ReLU(),\n",
        "      nn.Linear(n_hidden_neurons_1, n_out_neurons),\n",
        "      nn.ReLU()\n",
        "  )\n",
        "\n",
        "  optimizer = torch.optim.Adam(net.parameters(), lr=1e-3)\n",
        "\n",
        "  num_epochs = 1000\n",
        "\n",
        "  for epoch in range(num_epochs):\n",
        "    optimizer.zero_grad()\n",
        "\n",
        "    preds = net.forward(x_train)\n",
        "\n",
        "    loss_value = loss(preds, y_train)\n",
        "    loss_value.backward()\n",
        "\n",
        "    optimizer.step()\n",
        "\n",
        "  net.eval()\n",
        "  rmse = mean_squared_error(net.forward(x_test), y_test)\n",
        "  print(f\"h1: {n_hidden_neurons_1} rmse: {rmse}\")"
      ],
      "metadata": {
        "id": "MwKIY39hG-PP",
        "colab": {
          "base_uri": "https://localhost:8080/"
        },
        "outputId": "4d778f10-dfd1-4ba2-c181-578fb61ba3bb"
      },
      "execution_count": null,
      "outputs": [
        {
          "output_type": "stream",
          "name": "stdout",
          "text": [
            "h1: 500 rmse: 10282.2431640625\n",
            "h1: 550 rmse: 10067.166015625\n",
            "h1: 600 rmse: 9833.859375\n",
            "h1: 650 rmse: 9636.2392578125\n",
            "h1: 700 rmse: 9418.2431640625\n",
            "h1: 750 rmse: 9224.8173828125\n",
            "h1: 800 rmse: 9064.8564453125\n",
            "h1: 850 rmse: 8871.25\n",
            "h1: 900 rmse: 8705.376953125\n",
            "h1: 950 rmse: 8552.322265625\n",
            "h1: 1000 rmse: 8428.462890625\n",
            "h1: 1050 rmse: 8313.521484375\n",
            "h1: 1100 rmse: 8162.25927734375\n",
            "h1: 1150 rmse: 8029.806640625\n",
            "h1: 1200 rmse: 7930.189453125\n",
            "h1: 1250 rmse: 7843.1806640625\n",
            "h1: 1300 rmse: 7751.0556640625\n",
            "h1: 1350 rmse: 7665.6240234375\n",
            "h1: 1400 rmse: 7590.3916015625\n",
            "h1: 1450 rmse: 7519.08203125\n",
            "h1: 1500 rmse: 7462.3525390625\n"
          ]
        }
      ]
    },
    {
      "cell_type": "markdown",
      "source": [
        "В сети с одним скрытым слоем с увеличением в нем количества нейронов результат предсказания улучшается. Лучший скор был получен при 1500 нейронах в скрытом слое. Он составляет 7462."
      ],
      "metadata": {
        "id": "saD3g3CcefM4"
      }
    },
    {
      "cell_type": "markdown",
      "source": [
        "Обучим сеть с двумя скрытыми слоями с перебором количества нейронов."
      ],
      "metadata": {
        "id": "XR0lRLMie8ih"
      }
    },
    {
      "cell_type": "code",
      "source": [
        "samples = 25\n",
        "h1 = list(range(200, 800, 50))\n",
        "h2 = list(range(200, 800, 50))"
      ],
      "metadata": {
        "id": "KzyBhj5k_lKp"
      },
      "execution_count": null,
      "outputs": []
    },
    {
      "cell_type": "code",
      "source": [
        "for i in range(samples):\n",
        "    n_hidden_neurons_1 = h1[np.random.randint(0, len(h1))]\n",
        "    n_hidden_neurons_2 = h1[np.random.randint(0, len(h2))]\n",
        "\n",
        "    net = nn.Sequential(\n",
        "        nn.Linear(n_in_neurons, n_hidden_neurons_1),\n",
        "        nn.Tanh(),\n",
        "        nn.Linear(n_hidden_neurons_1, n_hidden_neurons_2),\n",
        "        nn.ReLU(),\n",
        "        nn.Linear(n_hidden_neurons_2, n_out_neurons),\n",
        "        nn.ReLU()\n",
        "    )\n",
        "\n",
        "    optimizer = torch.optim.Adam(net.parameters(), lr=1e-3)\n",
        "\n",
        "    num_epochs = 1000\n",
        "\n",
        "    for epoch in range(num_epochs):\n",
        "      optimizer.zero_grad()\n",
        "\n",
        "      preds = net.forward(x_train)\n",
        "\n",
        "      loss_value = loss(preds, y_train)\n",
        "      loss_value.backward()\n",
        "\n",
        "      optimizer.step()\n",
        "\n",
        "    net.eval()\n",
        "    rmse = mean_squared_error(net.forward(x_test), y_test)\n",
        "    print(f\"h1: {n_hidden_neurons_1} h2: {n_hidden_neurons_2} rmse: {rmse}\")"
      ],
      "metadata": {
        "colab": {
          "base_uri": "https://localhost:8080/"
        },
        "id": "BaSWXaLGe7-h",
        "outputId": "93f5e9d9-3acc-47f1-90b1-d2488b6e1596"
      },
      "execution_count": null,
      "outputs": [
        {
          "output_type": "stream",
          "name": "stdout",
          "text": [
            "h1: 350 h2: 550 rmse: 4210.49560546875\n",
            "h1: 650 h2: 500 rmse: 4183.3388671875\n",
            "h1: 350 h2: 500 rmse: 4205.845703125\n",
            "h1: 700 h2: 450 rmse: 4152.78857421875\n",
            "h1: 700 h2: 350 rmse: 4183.865234375\n",
            "h1: 700 h2: 300 rmse: 4135.27490234375\n",
            "h1: 350 h2: 650 rmse: 4194.40283203125\n",
            "h1: 350 h2: 700 rmse: 4227.08447265625\n",
            "h1: 200 h2: 700 rmse: 4165.94287109375\n",
            "h1: 500 h2: 250 rmse: 4143.7568359375\n",
            "h1: 250 h2: 700 rmse: 4226.8505859375\n",
            "h1: 650 h2: 600 rmse: 4229.8330078125\n",
            "h1: 750 h2: 500 rmse: 4225.05712890625\n",
            "h1: 700 h2: 650 rmse: 4235.1865234375\n",
            "h1: 700 h2: 350 rmse: 4872.47607421875\n",
            "h1: 300 h2: 550 rmse: 4121.880859375\n",
            "h1: 300 h2: 700 rmse: 4223.46630859375\n",
            "h1: 300 h2: 750 rmse: 4208.09765625\n",
            "h1: 600 h2: 350 rmse: 4156.5087890625\n",
            "h1: 550 h2: 450 rmse: 4216.4736328125\n",
            "h1: 550 h2: 650 rmse: 4195.18359375\n",
            "h1: 350 h2: 200 rmse: 4232.4169921875\n",
            "h1: 300 h2: 550 rmse: 4153.98681640625\n",
            "h1: 450 h2: 550 rmse: 4236.193359375\n",
            "h1: 300 h2: 650 rmse: 4170.8984375\n"
          ]
        }
      ]
    },
    {
      "cell_type": "markdown",
      "source": [
        "Метрика сети с двумя скрытыми слоями намного лучше, достигает 4121 RMSE. Лучший результат получился при 300 нейронах в первом и 550 нейронах во втором скрытых слоях."
      ],
      "metadata": {
        "id": "OZitOkODn3Hf"
      }
    },
    {
      "cell_type": "markdown",
      "source": [
        "Теперь попробуем обучить сеть с тремя скрытыми слоями."
      ],
      "metadata": {
        "id": "dEfYoRn9n_QM"
      }
    },
    {
      "cell_type": "code",
      "source": [
        "samples = 15\n",
        "h1 = list(range(200, 800, 50))\n",
        "h2 = list(range(200, 800, 50))\n",
        "h3 = list(range(300, 700, 50))"
      ],
      "metadata": {
        "id": "wq2nlYLI--s5"
      },
      "execution_count": null,
      "outputs": []
    },
    {
      "cell_type": "code",
      "source": [
        "for i in range(samples):\n",
        "      n_hidden_neurons_1 = h1[np.random.randint(0, len(h1))]\n",
        "      n_hidden_neurons_2 = h1[np.random.randint(0, len(h2))]\n",
        "      n_hidden_neurons_3 = h1[np.random.randint(0, len(h3))]\n",
        "\n",
        "      net = nn.Sequential(\n",
        "          nn.Linear(n_in_neurons, n_hidden_neurons_1),\n",
        "          nn.Tanh(),\n",
        "          nn.Linear(n_hidden_neurons_1, n_hidden_neurons_2),\n",
        "          nn.ReLU(),\n",
        "          nn.Linear(n_hidden_neurons_2, n_hidden_neurons_3),\n",
        "          nn.ReLU(),\n",
        "          nn.Linear(n_hidden_neurons_3, n_out_neurons),\n",
        "          nn.ReLU()\n",
        "      )\n",
        "\n",
        "      optimizer = torch.optim.Adam(net.parameters(), lr=1e-3)\n",
        "\n",
        "      num_epochs = 1000\n",
        "\n",
        "      for epoch in range(num_epochs):\n",
        "        optimizer.zero_grad()\n",
        "\n",
        "        preds = net.forward(x_train)\n",
        "\n",
        "        loss_value = loss(preds, y_train)\n",
        "        loss_value.backward()\n",
        "\n",
        "        optimizer.step()\n",
        "\n",
        "      net.eval()\n",
        "      rmse = mean_squared_error(net.forward(x_test), y_test)\n",
        "      print(f\"h1: {n_hidden_neurons_1} h2: {n_hidden_neurons_2} h3: {n_hidden_neurons_3} rmse: {rmse}\")"
      ],
      "metadata": {
        "colab": {
          "base_uri": "https://localhost:8080/"
        },
        "id": "HhweQJCTn-n4",
        "outputId": "69881d4d-197b-4ef3-bc0b-8abddb57817c"
      },
      "execution_count": null,
      "outputs": [
        {
          "output_type": "stream",
          "name": "stdout",
          "text": [
            "h1: 550 h2: 350 h3: 550 rmse: 13270.4912109375\n",
            "h1: 300 h2: 450 h3: 250 rmse: 4349.40673828125\n",
            "h1: 750 h2: 200 h3: 450 rmse: 4456.10693359375\n",
            "h1: 600 h2: 250 h3: 200 rmse: 4376.58154296875\n",
            "h1: 350 h2: 450 h3: 550 rmse: 4386.41357421875\n",
            "h1: 650 h2: 750 h3: 300 rmse: 4459.14599609375\n",
            "h1: 350 h2: 550 h3: 300 rmse: 4443.55810546875\n",
            "h1: 350 h2: 550 h3: 250 rmse: 4454.7138671875\n",
            "h1: 550 h2: 450 h3: 450 rmse: 4468.1171875\n",
            "h1: 700 h2: 450 h3: 500 rmse: 13270.4912109375\n",
            "h1: 500 h2: 400 h3: 550 rmse: 4490.279296875\n",
            "h1: 700 h2: 700 h3: 250 rmse: 4476.92578125\n",
            "h1: 650 h2: 200 h3: 450 rmse: 4407.4609375\n",
            "h1: 650 h2: 400 h3: 250 rmse: 4424.1240234375\n",
            "h1: 500 h2: 700 h3: 400 rmse: 4439.2685546875\n"
          ]
        }
      ]
    },
    {
      "cell_type": "markdown",
      "source": [
        "Сеть с тремя скрытыми слоями лучше, чем с одним, но хуже, чем с двумя.\n",
        "\n",
        "Поэтому остановимся на сети с двумя скртыми слоями с 300 нейронами в первом и 550 во втором скрытых слоях."
      ],
      "metadata": {
        "id": "9bf7TV35wFyl"
      }
    },
    {
      "cell_type": "markdown",
      "source": [
        "Обучим лучшую модель используя кросс-валидацию."
      ],
      "metadata": {
        "id": "KBCUeTW513_p"
      }
    },
    {
      "cell_type": "code",
      "source": [
        "n_hidden_neurons_1 = 300\n",
        "n_hidden_neurons_2 = 550"
      ],
      "metadata": {
        "id": "29g5hBI72GSj"
      },
      "execution_count": null,
      "outputs": []
    },
    {
      "cell_type": "code",
      "source": [
        "model = nn.Sequential(\n",
        "          nn.Linear(n_in_neurons, n_hidden_neurons_1),\n",
        "          nn.Tanh(),\n",
        "          nn.Linear(n_hidden_neurons_1, n_hidden_neurons_2),\n",
        "          nn.ReLU(),\n",
        "          nn.Linear(n_hidden_neurons_2, n_out_neurons),\n",
        "          nn.ReLU()\n",
        "      )"
      ],
      "metadata": {
        "id": "hUHyEXl017Zx"
      },
      "execution_count": null,
      "outputs": []
    },
    {
      "cell_type": "code",
      "source": [
        "net = NeuralNetRegressor(\n",
        "    model,\n",
        "    criterion= MeanSquaredError(squared=False),\n",
        "    max_epochs=1000,\n",
        "    optimizer=torch.optim.Adam,\n",
        "    optimizer__lr=1e-3,\n",
        "    callbacks='disable'\n",
        ")"
      ],
      "metadata": {
        "id": "3oxPnLia2NPb"
      },
      "execution_count": null,
      "outputs": []
    },
    {
      "cell_type": "code",
      "source": [
        "scores = cross_val_score(net, x_train, y_train,\n",
        "                     scoring='neg_mean_squared_error')\n",
        "s = 0\n",
        "for i in range(len(scores)):\n",
        "    s += (-scores[i]) ** 0.5\n",
        "print('mean rmse: ', s / len(scores))"
      ],
      "metadata": {
        "colab": {
          "base_uri": "https://localhost:8080/"
        },
        "id": "UFz5gh_S2Q0z",
        "outputId": "9f21a3e1-e586-4451-88bd-0a4f1edf1798"
      },
      "execution_count": null,
      "outputs": [
        {
          "output_type": "stream",
          "name": "stdout",
          "text": [
            "mean rmse:  4957.185820505076\n"
          ]
        }
      ]
    },
    {
      "cell_type": "markdown",
      "source": [
        "RMSE на кросс-валидации равна 4957."
      ],
      "metadata": {
        "id": "aGUMcVE14B4p"
      }
    },
    {
      "cell_type": "markdown",
      "source": [
        "Попробуем обучить лучшую сеть батчами, так же добавим дропаут."
      ],
      "metadata": {
        "id": "k9P9d9rJ1jgb"
      }
    },
    {
      "cell_type": "code",
      "source": [
        "dropout_values = [0.25, 0.5, 0.75]\n",
        "batch_values = [40, 30, 20, 10]"
      ],
      "metadata": {
        "id": "nprosy7x1jBs"
      },
      "execution_count": null,
      "outputs": []
    },
    {
      "cell_type": "code",
      "source": [
        "for dp in dropout_values:\n",
        "  for batch_size in batch_values:\n",
        "    net = nn.Sequential(\n",
        "        nn.Linear(n_in_neurons, n_hidden_neurons_1),\n",
        "        nn.Tanh(),\n",
        "        nn.Linear(n_hidden_neurons_1, n_hidden_neurons_2),\n",
        "        nn.ReLU(),\n",
        "        nn.Dropout(p=dp),\n",
        "        nn.Linear(n_hidden_neurons_2, n_out_neurons),\n",
        "        nn.ReLU()\n",
        "    )\n",
        "\n",
        "    optimizer = torch.optim.Adam(net.parameters(), lr=1e-3)\n",
        "\n",
        "    num_epochs = 1000\n",
        "\n",
        "    num_batches = ceil(len(x_train) / batch_size)\n",
        "\n",
        "    for epoch in range(num_epochs):\n",
        "\n",
        "      shuffled = np.random.permutation(len(x_train))\n",
        "\n",
        "      for batch_idx in range(num_batches):\n",
        "\n",
        "        start_index = batch_idx * batch_size\n",
        "\n",
        "        optimizer.zero_grad()\n",
        "\n",
        "        batch_indexes = shuffled[start_index: start_index+batch_size]\n",
        "        x_batch = x_train[start_index: start_index+batch_size]\n",
        "        y_batch = y_train[start_index: start_index+batch_size]\n",
        "\n",
        "        preds = net.forward(x_batch)\n",
        "\n",
        "        loss_value = loss(preds, y_batch)\n",
        "        loss_value.backward()\n",
        "\n",
        "        optimizer.step()\n",
        "\n",
        "    net.eval()\n",
        "    rmse = mean_squared_error(net.forward(x_test), y_test)\n",
        "    print(f\"dropout: {dp} batch size: {batch_size} rmse: {rmse}\")"
      ],
      "metadata": {
        "colab": {
          "base_uri": "https://localhost:8080/"
        },
        "id": "zNEf0sup4XUY",
        "outputId": "d9c2a5b7-b996-49b0-a07e-caeb5de7fd4d"
      },
      "execution_count": null,
      "outputs": [
        {
          "output_type": "stream",
          "name": "stdout",
          "text": [
            "dropout: 0.25 batch size: 40 rmse: 4224.9033203125\n",
            "dropout: 0.25 batch size: 30 rmse: 4359.298828125\n",
            "dropout: 0.25 batch size: 20 rmse: 4310.3388671875\n",
            "dropout: 0.25 batch size: 10 rmse: 4027.125\n",
            "dropout: 0.5 batch size: 40 rmse: 4185.5556640625\n",
            "dropout: 0.5 batch size: 30 rmse: 4318.1279296875\n",
            "dropout: 0.5 batch size: 20 rmse: 4266.68115234375\n",
            "dropout: 0.5 batch size: 10 rmse: 4000.030517578125\n",
            "dropout: 0.75 batch size: 40 rmse: 4159.1201171875\n",
            "dropout: 0.75 batch size: 30 rmse: 4325.2451171875\n",
            "dropout: 0.75 batch size: 20 rmse: 4260.48876953125\n",
            "dropout: 0.75 batch size: 10 rmse: 3992.1279296875\n"
          ]
        }
      ]
    },
    {
      "cell_type": "markdown",
      "source": [
        "При дропауте 0.75 и размере батча в 10 строк сеть получила наилучший результат RMSE = 3992.\n",
        "\n",
        "Обучим модель с этими параметрами."
      ],
      "metadata": {
        "id": "Bz5fIeOQhwD3"
      }
    },
    {
      "cell_type": "code",
      "source": [
        "batch_size = 10\n",
        "dropout = 0.75"
      ],
      "metadata": {
        "id": "6vTeGJRC9K_9"
      },
      "execution_count": null,
      "outputs": []
    },
    {
      "cell_type": "code",
      "source": [
        "results = np.array([])"
      ],
      "metadata": {
        "id": "HIiZPI8z9bPY"
      },
      "execution_count": null,
      "outputs": []
    },
    {
      "cell_type": "code",
      "source": [
        "model = nn.Sequential(\n",
        "    nn.Linear(n_in_neurons, n_hidden_neurons_1),\n",
        "    nn.Tanh(),\n",
        "    nn.Dropout(p=dropout),\n",
        "    nn.Linear(n_hidden_neurons_1, n_hidden_neurons_2),\n",
        "    nn.ReLU(),\n",
        "    nn.Linear(n_hidden_neurons_2, n_out_neurons)\n",
        "    )\n",
        "\n",
        "optimizer = torch.optim.Adam(model.parameters(), lr=1e-3)\n",
        "\n",
        "num_epochs = 1000\n",
        "num_batches = ceil(len(x_train)/batch_size)\n",
        "\n",
        "for epoch in range(num_epochs):\n",
        "\n",
        "    shuffled = np.random.permutation(len(x_train))\n",
        "\n",
        "    for batch_idx in range(num_batches):\n",
        "\n",
        "        start_index = batch_idx * batch_size\n",
        "        optimizer.zero_grad()\n",
        "\n",
        "        batch_indexes = shuffled[start_index:start_index+batch_size]\n",
        "        x_batch = x_train[batch_indexes]\n",
        "        y_batch = y_train[batch_indexes]\n",
        "\n",
        "        preds = model.forward(x_batch)\n",
        "\n",
        "        loss_value = loss(preds, y_batch)\n",
        "        loss_value.backward()\n",
        "\n",
        "        optimizer.step()\n",
        "\n",
        "    if epoch % 10 == 0:\n",
        "        test_preds = model.forward(x_test)\n",
        "        rmse = mean_squared_error(test_preds, y_test)\n",
        "        results = np.append(results, rmse.detach().numpy())\n",
        "\n",
        "model.eval()\n",
        "test_preds = model.forward(x_test)\n",
        "rmse = mean_squared_error(test_preds, y_test)\n",
        "results = np.append(results, rmse.detach().numpy())\n",
        "print(rmse.data)"
      ],
      "metadata": {
        "id": "WutQ43Cg9fbB",
        "colab": {
          "base_uri": "https://localhost:8080/"
        },
        "outputId": "938b00b6-ad21-4242-d91b-c1ffc422a5ba"
      },
      "execution_count": null,
      "outputs": [
        {
          "output_type": "stream",
          "name": "stdout",
          "text": [
            "tensor(4390.2349)\n"
          ]
        }
      ]
    },
    {
      "cell_type": "markdown",
      "source": [
        "На тестовой выборке RMSE = 4390, что является намного лучшим результатом по сравнению с сетью без дропаута и обучения батчами."
      ],
      "metadata": {
        "id": "8OM0N4YJiKLS"
      }
    },
    {
      "cell_type": "code",
      "source": [
        "preds = pd.DataFrame(test_preds.detach().numpy(), columns=['temperature'])\n",
        "target = pd.DataFrame(y_test.detach().numpy(), columns=['temperature'])"
      ],
      "metadata": {
        "id": "2n9C-EuU-B1Q"
      },
      "execution_count": null,
      "outputs": []
    },
    {
      "cell_type": "code",
      "source": [
        "fig, ax = plt.subplots(figsize=[20,6])\n",
        "plt.bar(x=preds.index, height=preds['temperature'], color='moccasin' , label='predicted')\n",
        "plt.bar(x=target.index, height=target['temperature'], color='cyan', label='real', width= 0.4)\n",
        "plt.xlabel('stars')\n",
        "plt.ylabel('temperature')\n",
        "ax.legend()\n",
        "plt.show()"
      ],
      "metadata": {
        "id": "bgr3R9hO-HQN",
        "colab": {
          "base_uri": "https://localhost:8080/",
          "height": 471
        },
        "outputId": "958c8f7e-8936-460b-9ff5-e68d90bddcc4"
      },
      "execution_count": null,
      "outputs": [
        {
          "output_type": "display_data",
          "data": {
            "text/plain": [
              "<Figure size 2000x600 with 1 Axes>"
            ],
            "image/png": "[encoded data removed]"
          },
          "metadata": {}
        }
      ]
    },
    {
      "cell_type": "markdown",
      "source": [
        "На графике видно, что сеть достаточно точно предсказывает относительно малые температуры, и менее точно большие температуры."
      ],
      "metadata": {
        "id": "k8kZZy3qiT18"
      }
    },
    {
      "cell_type": "code",
      "source": [
        "epochs = np.arange(0,1001,10)"
      ],
      "metadata": {
        "id": "wvX96CRT-TIT"
      },
      "execution_count": null,
      "outputs": []
    },
    {
      "cell_type": "code",
      "source": [
        "fig, ax = plt.subplots(figsize=[15,6])\n",
        "sns.lineplot(x=epochs, y=results, label='model')\n",
        "plt.legend()\n",
        "plt.xlabel('epochs')\n",
        "plt.ylabel('RMSE')\n",
        "plt.show()"
      ],
      "metadata": {
        "id": "9o8tGkqu-UQM",
        "colab": {
          "base_uri": "https://localhost:8080/",
          "height": 550
        },
        "outputId": "8fe0cf97-df00-4c2c-e23c-42d7067e72a0"
      },
      "execution_count": null,
      "outputs": [
        {
          "output_type": "display_data",
          "data": {
            "text/plain": [
              "<Figure size 1500x600 with 1 Axes>"
            ],
            "image/png": "[encoded data removed]"
          },
          "metadata": {}
        }
      ]
    },
    {
      "cell_type": "markdown",
      "source": [
        "График обучения по эпохам показывает, что сеть достигла минимум функции потерь после 100 эпох обучения, и после этого уменьшение функции потерь не происходило."
      ],
      "metadata": {
        "id": "ipwf-CfSifhm"
      }
    },
    {
      "cell_type": "markdown",
      "source": [
        "**Вывод**\n",
        "\n",
        "**Были проведены предобработка и исследовательский анализ данных показателей звезд. Затем были построены модели линейной регрессии и градиентного бустинга, последняя из которых дала хороший результат RMSE = 4568.**\n",
        "\n",
        "**После этого были обучены нейронные сети с разными архитектурами и значениями параметров, была выбрана и простестирована на тестовых данных наилучшая сеть. Она показаа значение метрики RMSE = 4390. Таким образом для данной задачи нейронная сеть показала себя лучше других моделей.**"
      ],
      "metadata": {
        "id": "1-4i6EP0-cPx"
      }
    }
  ]
}